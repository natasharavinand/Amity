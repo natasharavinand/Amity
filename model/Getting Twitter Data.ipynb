{
 "cells": [
  {
   "cell_type": "markdown",
   "id": "sonic-chain",
   "metadata": {},
   "source": [
    "# Retrieving Tweets from the Twitter API via Tweepy"
   ]
  },
  {
   "cell_type": "code",
   "execution_count": 1,
   "id": "pressing-primary",
   "metadata": {},
   "outputs": [],
   "source": [
    "# %load_ext dotenv\n",
    "%reload_ext dotenv\n",
    "%dotenv"
   ]
  },
  {
   "cell_type": "markdown",
   "id": "finnish-horse",
   "metadata": {},
   "source": [
    "## Loading in Packages"
   ]
  },
  {
   "cell_type": "code",
   "execution_count": 1,
   "id": "golden-banana",
   "metadata": {},
   "outputs": [],
   "source": [
    "import tweepy\n",
    "import os\n",
    "import pandas as pd\n",
    "import time"
   ]
  },
  {
   "cell_type": "markdown",
   "id": "civilian-accused",
   "metadata": {},
   "source": [
    "## Importing Authentication for API"
   ]
  },
  {
   "cell_type": "code",
   "execution_count": 3,
   "id": "announced-nation",
   "metadata": {},
   "outputs": [],
   "source": [
    "API_KEY = os.environ.get('API_KEY')\n",
    "API_SECRET_KEY = os.environ.get('API_SECRET_KEY')\n",
    "ACCESS_TOKEN = os.environ.get('ACCESS_TOKEN')\n",
    "ACCESS_TOKEN_SECRET = os.environ.get('ACCESS_TOKEN_SECRET')"
   ]
  },
  {
   "cell_type": "code",
   "execution_count": 4,
   "id": "vertical-forum",
   "metadata": {},
   "outputs": [],
   "source": [
    "if \"'\" in API_SECRET_KEY:\n",
    "    API_SECRET_KEY = API_SECRET_KEY.replace(\"'\", '')"
   ]
  },
  {
   "cell_type": "code",
   "execution_count": 5,
   "id": "adjacent-nelson",
   "metadata": {},
   "outputs": [],
   "source": [
    "auth = tweepy.OAuthHandler(API_KEY, API_SECRET_KEY)\n",
    "auth.set_access_token(ACCESS_TOKEN, ACCESS_TOKEN_SECRET)\n",
    "api = tweepy.API(auth,wait_on_rate_limit=True)"
   ]
  },
  {
   "cell_type": "markdown",
   "id": "precious-consortium",
   "metadata": {},
   "source": [
    "## Acquiring Tweets Relating to Suicidal Ideation/Poor Mental Health"
   ]
  },
  {
   "cell_type": "code",
   "execution_count": 6,
   "id": "previous-worcester",
   "metadata": {},
   "outputs": [],
   "source": [
    "indicator_queries = ['commit suicide', 'kill myself', 'want to die', 'hate myself']"
   ]
  },
  {
   "cell_type": "code",
   "execution_count": 7,
   "id": "verified-onion",
   "metadata": {},
   "outputs": [],
   "source": [
    "count = 5000\n",
    "tweets_df = pd.DataFrame(columns=['Created At', 'Tweet'])"
   ]
  },
  {
   "cell_type": "code",
   "execution_count": 8,
   "id": "reliable-abraham",
   "metadata": {},
   "outputs": [],
   "source": [
    "for text_query in indicator_queries:\n",
    "    try:\n",
    "     # Creation of query method using parameters\n",
    "     tweets = tweepy.Cursor(api.search,q=text_query).items(count)\n",
    "\n",
    "     # Pulling information from tweets iterable object\n",
    "     tweets_list = [[tweet.created_at, tweet.text] for tweet in tweets]\n",
    "\n",
    "     # Creation of dataframe from tweets list\n",
    "     # Add or remove columns as you remove tweet information\n",
    "     query_df = pd.DataFrame(tweets_list, columns=['Created At', 'Tweet'])\n",
    "    \n",
    "     tweets_df = tweets_df.append(query_df)\n",
    "\n",
    "    except BaseException as e:\n",
    "        print('failed on_status,',str(e))\n",
    "        time.sleep(3)"
   ]
  },
  {
   "cell_type": "code",
   "execution_count": 9,
   "id": "worth-tobacco",
   "metadata": {},
   "outputs": [
    {
     "data": {
      "text/html": [
       "<div>\n",
       "<style scoped>\n",
       "    .dataframe tbody tr th:only-of-type {\n",
       "        vertical-align: middle;\n",
       "    }\n",
       "\n",
       "    .dataframe tbody tr th {\n",
       "        vertical-align: top;\n",
       "    }\n",
       "\n",
       "    .dataframe thead th {\n",
       "        text-align: right;\n",
       "    }\n",
       "</style>\n",
       "<table border=\"1\" class=\"dataframe\">\n",
       "  <thead>\n",
       "    <tr style=\"text-align: right;\">\n",
       "      <th></th>\n",
       "      <th>Created At</th>\n",
       "      <th>Tweet</th>\n",
       "    </tr>\n",
       "  </thead>\n",
       "  <tbody>\n",
       "    <tr>\n",
       "      <th>0</th>\n",
       "      <td>2021-03-10 06:26:09</td>\n",
       "      <td>@DMVBeal ppl in May might as well commit suici...</td>\n",
       "    </tr>\n",
       "    <tr>\n",
       "      <th>1</th>\n",
       "      <td>2021-03-10 06:25:51</td>\n",
       "      <td>RT @taelik_: if i commit suicide at least a re...</td>\n",
       "    </tr>\n",
       "    <tr>\n",
       "      <th>2</th>\n",
       "      <td>2021-03-10 06:25:16</td>\n",
       "      <td>@DhananjayParkhe @bjpmaheshverma1 According to...</td>\n",
       "    </tr>\n",
       "    <tr>\n",
       "      <th>3</th>\n",
       "      <td>2021-03-10 06:24:19</td>\n",
       "      <td>RT @Attended_: @hunter_hhhh @thehighgoat tryin...</td>\n",
       "    </tr>\n",
       "    <tr>\n",
       "      <th>4</th>\n",
       "      <td>2021-03-10 06:23:37</td>\n",
       "      <td>RT @Khushi4justice: Why did Mukesh Bhatt claim...</td>\n",
       "    </tr>\n",
       "    <tr>\n",
       "      <th>...</th>\n",
       "      <td>...</td>\n",
       "      <td>...</td>\n",
       "    </tr>\n",
       "    <tr>\n",
       "      <th>19995</th>\n",
       "      <td>2021-03-09 21:09:35</td>\n",
       "      <td>RT @mucynt: Little graphic of why I hate mysel...</td>\n",
       "    </tr>\n",
       "    <tr>\n",
       "      <th>19996</th>\n",
       "      <td>2021-03-09 21:09:31</td>\n",
       "      <td>@undeadscribe it'd be more likely i drink all ...</td>\n",
       "    </tr>\n",
       "    <tr>\n",
       "      <th>19997</th>\n",
       "      <td>2021-03-09 21:09:29</td>\n",
       "      <td>RT @mucynt: Little graphic of why I hate mysel...</td>\n",
       "    </tr>\n",
       "    <tr>\n",
       "      <th>19998</th>\n",
       "      <td>2021-03-09 21:09:23</td>\n",
       "      <td>@gerceksensin901 I'll say it again...I hate my...</td>\n",
       "    </tr>\n",
       "    <tr>\n",
       "      <th>19999</th>\n",
       "      <td>2021-03-09 21:09:18</td>\n",
       "      <td>RT @Nancy_Cruises: I gotta be the MOST anxious...</td>\n",
       "    </tr>\n",
       "  </tbody>\n",
       "</table>\n",
       "<p>20000 rows × 2 columns</p>\n",
       "</div>"
      ],
      "text/plain": [
       "               Created At                                              Tweet\n",
       "0     2021-03-10 06:26:09  @DMVBeal ppl in May might as well commit suici...\n",
       "1     2021-03-10 06:25:51  RT @taelik_: if i commit suicide at least a re...\n",
       "2     2021-03-10 06:25:16  @DhananjayParkhe @bjpmaheshverma1 According to...\n",
       "3     2021-03-10 06:24:19  RT @Attended_: @hunter_hhhh @thehighgoat tryin...\n",
       "4     2021-03-10 06:23:37  RT @Khushi4justice: Why did Mukesh Bhatt claim...\n",
       "...                   ...                                                ...\n",
       "19995 2021-03-09 21:09:35  RT @mucynt: Little graphic of why I hate mysel...\n",
       "19996 2021-03-09 21:09:31  @undeadscribe it'd be more likely i drink all ...\n",
       "19997 2021-03-09 21:09:29  RT @mucynt: Little graphic of why I hate mysel...\n",
       "19998 2021-03-09 21:09:23  @gerceksensin901 I'll say it again...I hate my...\n",
       "19999 2021-03-09 21:09:18  RT @Nancy_Cruises: I gotta be the MOST anxious...\n",
       "\n",
       "[20000 rows x 2 columns]"
      ]
     },
     "execution_count": 9,
     "metadata": {},
     "output_type": "execute_result"
    }
   ],
   "source": [
    "tweets_df.reset_index().drop(['index'], axis=1)"
   ]
  },
  {
   "cell_type": "code",
   "execution_count": 10,
   "id": "numeric-company",
   "metadata": {},
   "outputs": [],
   "source": [
    "tweets_df.to_csv('./indicator_tweets.csv')"
   ]
  }
 ],
 "metadata": {
  "kernelspec": {
   "display_name": "Python 3",
   "language": "python",
   "name": "python3"
  },
  "language_info": {
   "codemirror_mode": {
    "name": "ipython",
    "version": 3
   },
   "file_extension": ".py",
   "mimetype": "text/x-python",
   "name": "python",
   "nbconvert_exporter": "python",
   "pygments_lexer": "ipython3",
   "version": "3.8.5"
  }
 },
 "nbformat": 4,
 "nbformat_minor": 5
}
