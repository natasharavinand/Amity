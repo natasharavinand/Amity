{
  "nbformat": 4,
  "nbformat_minor": 0,
  "metadata": {
    "colab": {
      "name": "Model.ipynb",
      "provenance": [],
      "collapsed_sections": []
    },
    "kernelspec": {
      "name": "python3",
      "display_name": "Python 3"
    },
    "accelerator": "GPU"
  },
  "cells": [
    {
      "cell_type": "markdown",
      "metadata": {
        "id": "im-9xu5vP-pj"
      },
      "source": [
        "## Import Libraries"
      ]
    },
    {
      "cell_type": "code",
      "metadata": {
        "id": "XXLhBazkBFmX"
      },
      "source": [
        "import pandas as pd\n",
        "from sklearn.model_selection import train_test_split\n",
        "\n",
        "import matplotlib.pyplot as plt\n",
        "import pandas as pd\n",
        "import torch\n",
        "\n",
        "from torchtext.legacy.data import Field, TabularDataset, BucketIterator\n",
        "\n",
        "import torch.nn as nn\n",
        "from torch.nn.utils.rnn import pack_padded_sequence, pad_packed_sequence\n",
        "\n",
        "import torch.optim as optim\n",
        "\n",
        "from sklearn.metrics import accuracy_score, classification_report, confusion_matrix\n",
        "import seaborn as sns\n",
        "\n",
        "device = torch.device('cuda')"
      ],
      "execution_count": 1,
      "outputs": []
    },
    {
      "cell_type": "markdown",
      "metadata": {
        "id": "SjdJ-yDqQLAF"
      },
      "source": [
        "## Load Datasets"
      ]
    },
    {
      "cell_type": "code",
      "metadata": {
        "id": "W72JUUFRQM03"
      },
      "source": [
        "X_train = pd.read_csv('/content/drive/MyDrive/Gap Year/SureStart/Makeathon/data/cleaned data/model/X_train.csv')\n",
        "y_train = pd.read_csv('/content/drive/MyDrive/Gap Year/SureStart/Makeathon/data/cleaned data/model/y_train.csv')\n",
        "\n",
        "X_test = pd.read_csv('/content/drive/MyDrive/Gap Year/SureStart/Makeathon/data/cleaned data/model/X_test.csv')\n",
        "y_test = pd.read_csv('/content/drive/MyDrive/Gap Year/SureStart/Makeathon/data/cleaned data/model/y_test.csv')\n",
        "\n",
        "X_val = pd.read_csv('/content/drive/MyDrive/Gap Year/SureStart/Makeathon/data/cleaned data/model/X_val.csv')\n",
        "y_val = pd.read_csv('/content/drive/MyDrive/Gap Year/SureStart/Makeathon/data/cleaned data/model/y_val.csv')\n",
        "\n",
        "df_train = X_train\n",
        "df_train['at_risk'] = y_train\n",
        "\n",
        "df_train.to_csv('/content/drive/MyDrive/Gap Year/SureStart/Makeathon/data/cleaned data/model/train.csv')\n",
        "\n",
        "df_test = X_test\n",
        "df_test['at_risk'] = y_test\n",
        "\n",
        "df_test.to_csv('/content/drive/MyDrive/Gap Year/SureStart/Makeathon/data/cleaned data/model/test.csv')\n",
        "\n",
        "df_val = X_val\n",
        "df_val['at_risk'] = y_val\n",
        "\n",
        "df_val.to_csv('/content/drive/MyDrive/Gap Year/SureStart/Makeathon/data/cleaned data/model/val.csv')"
      ],
      "execution_count": 2,
      "outputs": []
    },
    {
      "cell_type": "code",
      "metadata": {
        "id": "zvVphdaaQyVe"
      },
      "source": [
        "# Fields\n",
        "\n",
        "label_field = Field(sequential=False, use_vocab=False, batch_first=True, dtype=torch.float)\n",
        "tweet_field = Field(tokenize='spacy', lower=True, include_lengths=True, batch_first=True)\n",
        "fields = [('at_risk', label_field), ('tweet', tweet_field)]\n",
        "\n",
        "# TabularDataset\n",
        "\n",
        "train, valid, test = TabularDataset.splits(path='/content/drive/MyDrive/Gap Year/SureStart/Makeathon/data/cleaned data/model/', train='train.csv', validation='val.csv', test=\n",
        "                                           'test.csv',\n",
        "                                           format='CSV', fields=fields, skip_header=True)\n",
        "\n",
        "# Iterators\n",
        "\n",
        "train_iter = BucketIterator(train, batch_size=32, sort_key=lambda x: len(x.tweet),\n",
        "                            device=device, sort=True, sort_within_batch=True)\n",
        "\n",
        "valid_iter = BucketIterator(valid, batch_size=32, sort_key=lambda x: len(x.tweet),\n",
        "                            device=device, sort=True, sort_within_batch=True)\n",
        "\n",
        "test_iter = BucketIterator(test, batch_size=32, sort_key=lambda x: len(x.tweet),\n",
        "                            device=device, sort=True, sort_within_batch=True)\n",
        "\n",
        "# Vocabulary\n",
        "\n",
        "tweet_field.build_vocab(train, min_freq=3)"
      ],
      "execution_count": 3,
      "outputs": []
    },
    {
      "cell_type": "markdown",
      "metadata": {
        "id": "z8_mmsnqSoTG"
      },
      "source": [
        "## LSTM Model"
      ]
    },
    {
      "cell_type": "code",
      "metadata": {
        "id": "rUCBOvTRSk_e"
      },
      "source": [
        "class LSTM(nn.Module):\n",
        "\n",
        "    def __init__(self, dimension=128):\n",
        "        super(LSTM, self).__init__()\n",
        "\n",
        "        self.embedding = nn.Embedding(len(tweet_field.vocab), 300)\n",
        "        self.dimension = dimension\n",
        "        self.lstm = nn.LSTM(input_size=300,\n",
        "                            hidden_size=dimension,\n",
        "                            num_layers=1,\n",
        "                            batch_first=True,\n",
        "                            bidirectional=True)\n",
        "        self.drop = nn.Dropout(p=0.5)\n",
        "\n",
        "        self.fc = nn.Linear(2*dimension, 1)\n",
        "\n",
        "    def forward(self, tweet, tweet_len):\n",
        "\n",
        "        tweet_emb = self.embedding(tweet)\n",
        "\n",
        "        packed_input = pack_padded_sequence(tweet_emb, tweet_len, batch_first=True, enforce_sorted=False)\n",
        "        packed_output, _ = self.lstm(packed_input)\n",
        "        output, _ = pad_packed_sequence(packed_output, batch_first=True)\n",
        "\n",
        "        out_forward = output[range(len(output)), tweet_len - 1, :self.dimension]\n",
        "        out_reverse = output[:, 0, self.dimension:]\n",
        "        out_reduced = torch.cat((out_forward, out_reverse), 1)\n",
        "        tweet_fea = self.drop(out_reduced)\n",
        "\n",
        "        tweet_fea = self.fc(tweet_fea)\n",
        "        tweet_fea = torch.squeeze(tweet_fea, 1)\n",
        "        tweet_out = torch.sigmoid(tweet_fea)\n",
        "\n",
        "        return tweet_out"
      ],
      "execution_count": 5,
      "outputs": []
    },
    {
      "cell_type": "markdown",
      "metadata": {
        "id": "3Bhcx-O8SqoF"
      },
      "source": [
        "## Model Training"
      ]
    },
    {
      "cell_type": "code",
      "metadata": {
        "id": "587-vJS3Svp1"
      },
      "source": [
        "# Save and Load Functions\n",
        "\n",
        "def save_checkpoint(save_path, model, optimizer, valid_loss):\n",
        "\n",
        "    if save_path == None:\n",
        "        return\n",
        "    \n",
        "    state_dict = {'model_state_dict': model.state_dict(),\n",
        "                  'optimizer_state_dict': optimizer.state_dict(),\n",
        "                  'valid_loss': valid_loss}\n",
        "    \n",
        "    torch.save(state_dict, save_path)\n",
        "    print(f'Model saved to ==> {save_path}')\n",
        "\n",
        "\n",
        "def load_checkpoint(load_path, model, optimizer):\n",
        "\n",
        "    if load_path==None:\n",
        "        return\n",
        "    \n",
        "    state_dict = torch.load(load_path, map_location=device)\n",
        "    print(f'Model loaded from <== {load_path}')\n",
        "    \n",
        "    model.load_state_dict(state_dict['model_state_dict'])\n",
        "    optimizer.load_state_dict(state_dict['optimizer_state_dict'])\n",
        "    \n",
        "    return state_dict['valid_loss']\n",
        "\n",
        "\n",
        "def save_metrics(save_path, train_loss_list, valid_loss_list, global_steps_list):\n",
        "\n",
        "    if save_path == None:\n",
        "        return\n",
        "    \n",
        "    state_dict = {'train_loss_list': train_loss_list,\n",
        "                  'valid_loss_list': valid_loss_list,\n",
        "                  'global_steps_list': global_steps_list}\n",
        "    \n",
        "    torch.save(state_dict, save_path)\n",
        "    print(f'Model saved to ==> {save_path}')\n",
        "\n",
        "\n",
        "def load_metrics(load_path):\n",
        "\n",
        "    if load_path==None:\n",
        "        return\n",
        "    \n",
        "    state_dict = torch.load(load_path, map_location=device)\n",
        "    print(f'Model loaded from <== {load_path}')\n",
        "    \n",
        "    return state_dict['train_loss_list'], state_dict['valid_loss_list'], state_dict['global_steps_list']\n"
      ],
      "execution_count": 6,
      "outputs": []
    },
    {
      "cell_type": "markdown",
      "metadata": {
        "id": "o6NaJahaSygq"
      },
      "source": [
        "### Training function"
      ]
    },
    {
      "cell_type": "code",
      "metadata": {
        "id": "q_1gq1J1S3Hc",
        "colab": {
          "base_uri": "https://localhost:8080/"
        },
        "outputId": "264130cb-14df-433d-e6bb-181a64d74365"
      },
      "source": [
        "destination_folder = '/content/drive/MyDrive/Gap Year/SureStart/Makeathon/results'\n",
        "\n",
        "def train(model,\n",
        "          optimizer,\n",
        "          criterion = nn.BCELoss(),\n",
        "          train_loader = train_iter,\n",
        "          valid_loader = valid_iter,\n",
        "          num_epochs = 1,\n",
        "          eval_every = len(train_iter) // 2,\n",
        "          file_path = destination_folder,\n",
        "          best_valid_loss = float(\"Inf\")):\n",
        "    \n",
        "    # initialize running values\n",
        "    running_loss = 0.0\n",
        "    valid_running_loss = 0.0\n",
        "    global_step = 0\n",
        "    train_loss_list = []\n",
        "    valid_loss_list = []\n",
        "    global_steps_list = []\n",
        "\n",
        "    # training loop\n",
        "    model.train()\n",
        "    for epoch in range(num_epochs):\n",
        "        for (labels, (tweets, tweets_len)), _ in train_loader:           \n",
        "            labels = labels.to(device)\n",
        "            tweets = tweets.to(device)\n",
        "            #tweets_len = tweets_len.to(device)\n",
        "            tweets_len = torch.as_tensor(tweets_len, dtype=torch.int64, device='cpu')\n",
        "            output = model(tweets, tweets_len)\n",
        "\n",
        "            loss = criterion(output, labels)\n",
        "            optimizer.zero_grad()\n",
        "            loss.backward()\n",
        "            optimizer.step()\n",
        "\n",
        "            # update running values\n",
        "            running_loss += loss.item()\n",
        "            global_step += 1\n",
        "\n",
        "            # evaluation step\n",
        "            if global_step % eval_every == 0:\n",
        "                model.eval()\n",
        "                with torch.no_grad():                    \n",
        "                  # validation loop\n",
        "                  for (labels, (tweets, tweets_len)), _ in valid_loader:\n",
        "                      labels = labels.to(device)\n",
        "                      tweets = tweets.to(device)\n",
        "                      tweets_len = tweets_len.to(device)\n",
        "                      tweets_len = torch.as_tensor(tweets_len, dtype=torch.int64, device='cpu')\n",
        "                      output = model(tweets, tweets_len)\n",
        "\n",
        "                      loss = criterion(output, labels)\n",
        "                      valid_running_loss += loss.item()\n",
        "\n",
        "                # evaluation\n",
        "                average_train_loss = running_loss / eval_every\n",
        "                average_valid_loss = valid_running_loss / len(valid_loader)\n",
        "                train_loss_list.append(average_train_loss)\n",
        "                valid_loss_list.append(average_valid_loss)\n",
        "                global_steps_list.append(global_step)\n",
        "\n",
        "                # resetting running values\n",
        "                running_loss = 0.0                \n",
        "                valid_running_loss = 0.0\n",
        "                model.train()\n",
        "\n",
        "                # print progress\n",
        "                print('Epoch [{}/{}], Step [{}/{}], Train Loss: {:.4f}, Valid Loss: {:.4f}'\n",
        "                      .format(epoch+1, num_epochs, global_step, num_epochs*len(train_loader),\n",
        "                              average_train_loss, average_valid_loss))\n",
        "                \n",
        "                # checkpoint\n",
        "                if best_valid_loss > average_valid_loss:\n",
        "                    best_valid_loss = average_valid_loss\n",
        "                    save_checkpoint(file_path + '/model.pt', model, optimizer, best_valid_loss)\n",
        "                    save_metrics(file_path + '/metrics.pt', train_loss_list, valid_loss_list, global_steps_list)\n",
        "    \n",
        "    save_metrics(file_path + '/metrics.pt', train_loss_list, valid_loss_list, global_steps_list)\n",
        "    print('Finished Training!')\n",
        "\n",
        "\n",
        "model = LSTM().to(device)\n",
        "optimizer = optim.Adam(model.parameters(), lr=0.001)\n",
        "\n",
        "train(model=model, optimizer=optimizer, num_epochs=10)"
      ],
      "execution_count": 15,
      "outputs": [
        {
          "output_type": "stream",
          "text": [
            "Epoch [1/10], Step [192/3840], Train Loss: -445413.7342, Valid Loss: -194826.4752\n",
            "Model saved to ==> /content/drive/MyDrive/Gap Year/SureStart/Makeathon/data/cleaned data/model/results//model.pt\n",
            "Model saved to ==> /content/drive/MyDrive/Gap Year/SureStart/Makeathon/data/cleaned data/model/results//metrics.pt\n",
            "Epoch [1/10], Step [384/3840], Train Loss: -625540.8203, Valid Loss: -194826.4753\n",
            "Model saved to ==> /content/drive/MyDrive/Gap Year/SureStart/Makeathon/data/cleaned data/model/results//model.pt\n",
            "Model saved to ==> /content/drive/MyDrive/Gap Year/SureStart/Makeathon/data/cleaned data/model/results//metrics.pt\n",
            "Epoch [2/10], Step [576/3840], Train Loss: -560948.0868, Valid Loss: -200061.2480\n",
            "Model saved to ==> /content/drive/MyDrive/Gap Year/SureStart/Makeathon/data/cleaned data/model/results//model.pt\n",
            "Model saved to ==> /content/drive/MyDrive/Gap Year/SureStart/Makeathon/data/cleaned data/model/results//metrics.pt\n",
            "Epoch [2/10], Step [768/3840], Train Loss: -625540.8203, Valid Loss: -200061.2480\n",
            "Epoch [3/10], Step [960/3840], Train Loss: -582956.7864, Valid Loss: -201092.2798\n",
            "Model saved to ==> /content/drive/MyDrive/Gap Year/SureStart/Makeathon/data/cleaned data/model/results//model.pt\n",
            "Model saved to ==> /content/drive/MyDrive/Gap Year/SureStart/Makeathon/data/cleaned data/model/results//metrics.pt\n",
            "Epoch [3/10], Step [1152/3840], Train Loss: -625540.8203, Valid Loss: -201092.2798\n",
            "Epoch [4/10], Step [1344/3840], Train Loss: -589771.7750, Valid Loss: -201722.6422\n",
            "Model saved to ==> /content/drive/MyDrive/Gap Year/SureStart/Makeathon/data/cleaned data/model/results//model.pt\n",
            "Model saved to ==> /content/drive/MyDrive/Gap Year/SureStart/Makeathon/data/cleaned data/model/results//metrics.pt\n",
            "Epoch [4/10], Step [1536/3840], Train Loss: -625540.8203, Valid Loss: -201722.6422\n",
            "Epoch [5/10], Step [1728/3840], Train Loss: -595959.8476, Valid Loss: -202050.6641\n",
            "Model saved to ==> /content/drive/MyDrive/Gap Year/SureStart/Makeathon/data/cleaned data/model/results//model.pt\n",
            "Model saved to ==> /content/drive/MyDrive/Gap Year/SureStart/Makeathon/data/cleaned data/model/results//metrics.pt\n",
            "Epoch [5/10], Step [1920/3840], Train Loss: -625540.8203, Valid Loss: -202050.6641\n",
            "Epoch [6/10], Step [2112/3840], Train Loss: -598372.0919, Valid Loss: -202153.0197\n",
            "Model saved to ==> /content/drive/MyDrive/Gap Year/SureStart/Makeathon/data/cleaned data/model/results//model.pt\n",
            "Model saved to ==> /content/drive/MyDrive/Gap Year/SureStart/Makeathon/data/cleaned data/model/results//metrics.pt\n",
            "Epoch [6/10], Step [2304/3840], Train Loss: -625540.8203, Valid Loss: -202153.0197\n",
            "Epoch [7/10], Step [2496/3840], Train Loss: -598657.7081, Valid Loss: -202323.7897\n",
            "Model saved to ==> /content/drive/MyDrive/Gap Year/SureStart/Makeathon/data/cleaned data/model/results//model.pt\n",
            "Model saved to ==> /content/drive/MyDrive/Gap Year/SureStart/Makeathon/data/cleaned data/model/results//metrics.pt\n",
            "Epoch [7/10], Step [2688/3840], Train Loss: -625540.8203, Valid Loss: -202323.7897\n",
            "Epoch [8/10], Step [2880/3840], Train Loss: -599623.3031, Valid Loss: -202294.8787\n",
            "Epoch [8/10], Step [3072/3840], Train Loss: -625540.8203, Valid Loss: -202294.8787\n",
            "Epoch [9/10], Step [3264/3840], Train Loss: -599946.0614, Valid Loss: -202504.9426\n",
            "Model saved to ==> /content/drive/MyDrive/Gap Year/SureStart/Makeathon/data/cleaned data/model/results//model.pt\n",
            "Model saved to ==> /content/drive/MyDrive/Gap Year/SureStart/Makeathon/data/cleaned data/model/results//metrics.pt\n",
            "Epoch [9/10], Step [3456/3840], Train Loss: -625540.8203, Valid Loss: -202504.9426\n",
            "Epoch [10/10], Step [3648/3840], Train Loss: -600058.6885, Valid Loss: -202502.2669\n",
            "Epoch [10/10], Step [3840/3840], Train Loss: -625540.8203, Valid Loss: -202502.2669\n",
            "Model saved to ==> /content/drive/MyDrive/Gap Year/SureStart/Makeathon/data/cleaned data/model/results//metrics.pt\n",
            "Finished Training!\n"
          ],
          "name": "stdout"
        }
      ]
    }
  ]
}