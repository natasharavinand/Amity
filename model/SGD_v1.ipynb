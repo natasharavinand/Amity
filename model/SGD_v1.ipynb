{
  "nbformat": 4,
  "nbformat_minor": 0,
  "metadata": {
    "colab": {
      "name": "Model_SGD.ipynb",
      "provenance": [],
      "collapsed_sections": []
    },
    "kernelspec": {
      "name": "python3",
      "display_name": "Python 3"
    }
  },
  "cells": [
    {
      "cell_type": "code",
      "metadata": {
        "id": "aqStrhgGX7i4"
      },
      "source": [
        "import re\n",
        "import numpy as np\n",
        "import pandas as pd"
      ],
      "execution_count": 50,
      "outputs": []
    },
    {
      "cell_type": "code",
      "metadata": {
        "id": "4y8Di5waYv7v"
      },
      "source": [
        "from sklearn.linear_model import SGDClassifier\n",
        "from sklearn.feature_extraction.text import HashingVectorizer\n",
        "from sklearn.model_selection import train_test_split"
      ],
      "execution_count": 51,
      "outputs": []
    },
    {
      "cell_type": "code",
      "metadata": {
        "id": "rzz9kcvCcbR3",
        "colab": {
          "base_uri": "https://localhost:8080/"
        },
        "outputId": "10471575-2faf-4caa-e5df-ca8cdaba8ae3"
      },
      "source": [
        "from google.colab import drive\n",
        "drive.mount('/content/drive')"
      ],
      "execution_count": 52,
      "outputs": [
        {
          "output_type": "stream",
          "text": [
            "Drive already mounted at /content/drive; to attempt to forcibly remount, call drive.mount(\"/content/drive\", force_remount=True).\n"
          ],
          "name": "stdout"
        }
      ]
    },
    {
      "cell_type": "code",
      "metadata": {
        "id": "Pa6ENX1hYSlr"
      },
      "source": [
        "vect = HashingVectorizer(decode_error='ignore', n_features=2**21, \n",
        "                         preprocessor=None)"
      ],
      "execution_count": 53,
      "outputs": []
    },
    {
      "cell_type": "code",
      "metadata": {
        "id": "IoulM3ajX_XB"
      },
      "source": [
        "train = pd.read_csv('/content/drive/MyDrive/Gap Year/SureStart/Makeathon/data/cleaned data/model/train.csv')\n",
        "test = pd.read_csv('/content/drive/MyDrive/Gap Year/SureStart/Makeathon/data/cleaned data/model/test.csv')\n",
        "val = pd.read_csv('/content/drive/MyDrive/Gap Year/SureStart/Makeathon/data/cleaned data/model/val.csv')"
      ],
      "execution_count": 54,
      "outputs": []
    },
    {
      "cell_type": "code",
      "metadata": {
        "id": "MzXpwE6FYhrZ"
      },
      "source": [
        "df = train.append(test).append(val).reset_index(drop=True).drop(columns=['Unnamed: 0'])"
      ],
      "execution_count": 55,
      "outputs": []
    },
    {
      "cell_type": "code",
      "metadata": {
        "id": "YV19Xd_aYkje"
      },
      "source": [
        "clf = SGDClassifier(loss='log')"
      ],
      "execution_count": 56,
      "outputs": []
    },
    {
      "cell_type": "code",
      "metadata": {
        "id": "zKhPlB9BYzk-"
      },
      "source": [
        "X = df[\"tweet\"].to_list()\n",
        "y = df['at_risk']"
      ],
      "execution_count": 57,
      "outputs": []
    },
    {
      "cell_type": "code",
      "metadata": {
        "id": "DEIhSA0EY45F"
      },
      "source": [
        "X_train,X_test,y_train,y_test = train_test_split(X,\n",
        "                                                 y,\n",
        "                                                 test_size=0.25)\n"
      ],
      "execution_count": 58,
      "outputs": []
    },
    {
      "cell_type": "code",
      "metadata": {
        "id": "6wrJFD20Y8V0"
      },
      "source": [
        "X_train = vect.transform(X_train)\n",
        "X_test = vect.transform(X_test)"
      ],
      "execution_count": 59,
      "outputs": []
    },
    {
      "cell_type": "code",
      "metadata": {
        "colab": {
          "base_uri": "https://localhost:8080/"
        },
        "id": "29MKqgF_ZOTi",
        "outputId": "41833035-2021-46b9-d75f-d5cdb545c408"
      },
      "source": [
        "classes = np.array([0, 1])\n",
        "clf.partial_fit(X_train, y_train,classes=classes)"
      ],
      "execution_count": 60,
      "outputs": [
        {
          "output_type": "execute_result",
          "data": {
            "text/plain": [
              "SGDClassifier(alpha=0.0001, average=False, class_weight=None,\n",
              "              early_stopping=False, epsilon=0.1, eta0=0.0, fit_intercept=True,\n",
              "              l1_ratio=0.15, learning_rate='optimal', loss='log', max_iter=1000,\n",
              "              n_iter_no_change=5, n_jobs=None, penalty='l2', power_t=0.5,\n",
              "              random_state=None, shuffle=True, tol=0.001,\n",
              "              validation_fraction=0.1, verbose=0, warm_start=False)"
            ]
          },
          "metadata": {
            "tags": []
          },
          "execution_count": 60
        }
      ]
    },
    {
      "cell_type": "code",
      "metadata": {
        "colab": {
          "base_uri": "https://localhost:8080/"
        },
        "id": "NNYMqXtXZPMM",
        "outputId": "2182efa9-c2c0-4fff-e72b-64ef141005c0"
      },
      "source": [
        "print('Accuracy: %.3f' % clf.score(X_test, y_test))"
      ],
      "execution_count": 61,
      "outputs": [
        {
          "output_type": "stream",
          "text": [
            "Accuracy: 0.843\n"
          ],
          "name": "stdout"
        }
      ]
    }
  ]
}