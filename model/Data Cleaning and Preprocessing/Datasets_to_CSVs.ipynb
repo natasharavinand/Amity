{
  "nbformat": 4,
  "nbformat_minor": 0,
  "metadata": {
    "colab": {
      "name": "Datasets to CSVs.ipynb",
      "provenance": [],
      "collapsed_sections": []
    },
    "kernelspec": {
      "name": "python3",
      "display_name": "Python 3"
    }
  },
  "cells": [
    {
      "cell_type": "markdown",
      "metadata": {
        "id": "aEdF5Mh00c77"
      },
      "source": [
        "## Splitting Datasets into Train, Test, Validation"
      ]
    },
    {
      "cell_type": "code",
      "metadata": {
        "colab": {
          "base_uri": "https://localhost:8080/"
        },
        "id": "TirNj3aN00pB",
        "outputId": "56a0f3c2-1040-4783-fe60-776efd64734d"
      },
      "source": [
        "from google.colab import drive\n",
        "drive.mount('/content/drive')"
      ],
      "execution_count": 49,
      "outputs": [
        {
          "output_type": "stream",
          "text": [
            "Mounted at /content/drive\n"
          ],
          "name": "stdout"
        }
      ]
    },
    {
      "cell_type": "code",
      "metadata": {
        "id": "J2O_ikkuw9LV"
      },
      "source": [
        "import pandas as pd\n",
        "import numpy as np\n",
        "\n",
        "from sklearn.model_selection import train_test_split"
      ],
      "execution_count": 36,
      "outputs": []
    },
    {
      "cell_type": "code",
      "metadata": {
        "id": "s_cGZbDcxQmF"
      },
      "source": [
        "twitter = pd.read_csv('https://raw.githubusercontent.com/natasharavinand/Amity/main/data/cleaned_twitter.csv')\n",
        "sentiment_negative = pd.read_csv('https://raw.githubusercontent.com/natasharavinand/Amity/main/data/sentiment_negative.csv')\n",
        "sentiment_positive = pd.read_csv('https://raw.githubusercontent.com/natasharavinand/Amity/main/data/sentiment_positive.csv')"
      ],
      "execution_count": 37,
      "outputs": []
    },
    {
      "cell_type": "code",
      "metadata": {
        "id": "cjaWpQ2sxCSe"
      },
      "source": [
        "sentiment_negative['at_risk'] = 0"
      ],
      "execution_count": 38,
      "outputs": []
    },
    {
      "cell_type": "code",
      "metadata": {
        "id": "dTZEQeiWyanA"
      },
      "source": [
        "sentiment_negative = sentiment_negative.sample(len(sentiment_negative)//2)\n",
        "sentiment_positive = sentiment_positive.sample(len(sentiment_positive)//2)"
      ],
      "execution_count": 39,
      "outputs": []
    },
    {
      "cell_type": "code",
      "metadata": {
        "id": "rj8ZswPzxwnZ"
      },
      "source": [
        "sentiment = sentiment_positive.append(sentiment_negative)"
      ],
      "execution_count": 40,
      "outputs": []
    },
    {
      "cell_type": "code",
      "metadata": {
        "id": "jE-AHxaFzUEK"
      },
      "source": [
        "sentiment = sentiment.drop([col for col in sentiment.columns if col not in ['tweet', 'at_risk']], axis=1).reset_index(drop=True)"
      ],
      "execution_count": 41,
      "outputs": []
    },
    {
      "cell_type": "code",
      "metadata": {
        "id": "20n5S887zluy"
      },
      "source": [
        "sentiment = sentiment.dropna()"
      ],
      "execution_count": 42,
      "outputs": []
    },
    {
      "cell_type": "code",
      "metadata": {
        "id": "i-mzfDg9zWa_"
      },
      "source": [
        "twitter = twitter.drop([col for col in twitter.columns if col not in ['tweet', 'at_risk']], axis=1).reset_index(drop=True)"
      ],
      "execution_count": 43,
      "outputs": []
    },
    {
      "cell_type": "code",
      "metadata": {
        "id": "e2I6Mg1o0YbL"
      },
      "source": [
        "twitter = twitter.dropna()"
      ],
      "execution_count": 44,
      "outputs": []
    },
    {
      "cell_type": "code",
      "metadata": {
        "id": "Ap01HLHEztHQ"
      },
      "source": [
        "df = sentiment.append(twitter)"
      ],
      "execution_count": 45,
      "outputs": []
    },
    {
      "cell_type": "code",
      "metadata": {
        "id": "aQn3qjY3zyvh"
      },
      "source": [
        "X = df['tweet']\n",
        "y = df['at_risk']"
      ],
      "execution_count": 46,
      "outputs": []
    },
    {
      "cell_type": "code",
      "metadata": {
        "id": "OnTpnaSmyp9L"
      },
      "source": [
        " X_train, X_test, y_train, y_test = train_test_split(X, y, test_size=0.2, stratify=y)"
      ],
      "execution_count": 47,
      "outputs": []
    },
    {
      "cell_type": "code",
      "metadata": {
        "id": "DN3TAO8Sy0QL"
      },
      "source": [
        "X_train, X_val, y_train, y_val = train_test_split(X_train, y_train, test_size=0.25, stratify=y_train)"
      ],
      "execution_count": 48,
      "outputs": []
    },
    {
      "cell_type": "code",
      "metadata": {
        "id": "2sacIg210f6p"
      },
      "source": [
        "X_train.to_csv('/content/drive/MyDrive/Gap Year/SureStart/Makeathon/data/cleaned data/model/X_train.csv', index=None)\n",
        "y_train.to_csv('/content/drive/MyDrive/Gap Year/SureStart/Makeathon/data/cleaned data/model/y_train.csv', index=None)\n",
        "\n",
        "X_test.to_csv('/content/drive/MyDrive/Gap Year/SureStart/Makeathon/data/cleaned data/model/X_test.csv', index=None)\n",
        "y_test.to_csv('/content/drive/MyDrive/Gap Year/SureStart/Makeathon/data/cleaned data/model/y_test.csv', index=None)\n",
        "\n",
        "X_val.to_csv('/content/drive/MyDrive/Gap Year/SureStart/Makeathon/data/cleaned data/model/X_val.csv', index=None)\n",
        "y_val.to_csv('/content/drive/MyDrive/Gap Year/SureStart/Makeathon/data/cleaned data/model/y_val.csv', index=None)"
      ],
      "execution_count": 50,
      "outputs": []
    }
  ]
}