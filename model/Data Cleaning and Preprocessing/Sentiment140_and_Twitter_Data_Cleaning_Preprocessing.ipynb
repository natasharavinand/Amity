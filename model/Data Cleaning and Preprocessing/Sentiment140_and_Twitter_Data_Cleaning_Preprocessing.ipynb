{
  "nbformat": 4,
  "nbformat_minor": 0,
  "metadata": {
    "colab": {
      "name": "Sentiment140 and Twitter Data Cleaning/Preprocessing.ipynb",
      "provenance": [],
      "collapsed_sections": [],
      "toc_visible": true
    },
    "kernelspec": {
      "name": "python3",
      "display_name": "Python 3"
    }
  },
  "cells": [
    {
      "cell_type": "markdown",
      "metadata": {
        "id": "3aHA3rMiFmxj"
      },
      "source": [
        "# Sentiment140 and Twitter Data Cleaning/Preprocessing"
      ]
    },
    {
      "cell_type": "code",
      "metadata": {
        "id": "G6kcR8Pfjo9L",
        "colab": {
          "base_uri": "https://localhost:8080/"
        },
        "outputId": "6bf649ce-94d9-4dcc-d726-c1a5886fcf14"
      },
      "source": [
        "import pandas as pd\n",
        "import numpy as np\n",
        "import time\n",
        "\n",
        "import re\n",
        "\n",
        "import datetime\n",
        "\n",
        "import nltk\n",
        "from nltk.tokenize import word_tokenize\n",
        "from nltk.corpus import stopwords\n",
        "from nltk.stem import PorterStemmer\n",
        "from nltk.stem import WordNetLemmatizer\n",
        "\n",
        "nltk.download('punkt')\n",
        "nltk.download('stopwords')\n",
        "nltk.download('wordnet')"
      ],
      "execution_count": 172,
      "outputs": [
        {
          "output_type": "stream",
          "text": [
            "[nltk_data] Downloading package punkt to /root/nltk_data...\n",
            "[nltk_data]   Package punkt is already up-to-date!\n",
            "[nltk_data] Downloading package stopwords to /root/nltk_data...\n",
            "[nltk_data]   Package stopwords is already up-to-date!\n",
            "[nltk_data] Downloading package wordnet to /root/nltk_data...\n",
            "[nltk_data]   Package wordnet is already up-to-date!\n"
          ],
          "name": "stdout"
        },
        {
          "output_type": "execute_result",
          "data": {
            "text/plain": [
              "True"
            ]
          },
          "metadata": {
            "tags": []
          },
          "execution_count": 172
        }
      ]
    },
    {
      "cell_type": "code",
      "metadata": {
        "colab": {
          "base_uri": "https://localhost:8080/"
        },
        "id": "6_oPSsjPmDZA",
        "outputId": "fba45663-923e-4046-9a48-1d9a0aa4b4e9"
      },
      "source": [
        "from google.colab import drive\n",
        "drive.mount('/content/drive')"
      ],
      "execution_count": 141,
      "outputs": [
        {
          "output_type": "stream",
          "text": [
            "Drive already mounted at /content/drive; to attempt to forcibly remount, call drive.mount(\"/content/drive\", force_remount=True).\n"
          ],
          "name": "stdout"
        }
      ]
    },
    {
      "cell_type": "markdown",
      "metadata": {
        "id": "FS88ACAIAQkl"
      },
      "source": [
        "## Sentiment 140"
      ]
    },
    {
      "cell_type": "code",
      "metadata": {
        "id": "TrkGJrL1i981"
      },
      "source": [
        "sentiment140 = pd.read_csv('/content/drive/MyDrive/Gap Year/SureStart/Makeathon/data/sentiment140.csv', encoding=\"ISO-8859-1\", names=[\"0\", \"1\", \"2\", \"3\", \"4\", \"5\"])"
      ],
      "execution_count": 173,
      "outputs": []
    },
    {
      "cell_type": "code",
      "metadata": {
        "colab": {
          "base_uri": "https://localhost:8080/",
          "height": 197
        },
        "id": "HHmlcoGWCsUS",
        "outputId": "9ac59216-15bd-4765-fd31-8a197cb4b377"
      },
      "source": [
        "sentiment140.head()"
      ],
      "execution_count": 143,
      "outputs": [
        {
          "output_type": "execute_result",
          "data": {
            "text/html": [
              "<div>\n",
              "<style scoped>\n",
              "    .dataframe tbody tr th:only-of-type {\n",
              "        vertical-align: middle;\n",
              "    }\n",
              "\n",
              "    .dataframe tbody tr th {\n",
              "        vertical-align: top;\n",
              "    }\n",
              "\n",
              "    .dataframe thead th {\n",
              "        text-align: right;\n",
              "    }\n",
              "</style>\n",
              "<table border=\"1\" class=\"dataframe\">\n",
              "  <thead>\n",
              "    <tr style=\"text-align: right;\">\n",
              "      <th></th>\n",
              "      <th>0</th>\n",
              "      <th>1</th>\n",
              "      <th>2</th>\n",
              "      <th>3</th>\n",
              "      <th>4</th>\n",
              "      <th>5</th>\n",
              "    </tr>\n",
              "  </thead>\n",
              "  <tbody>\n",
              "    <tr>\n",
              "      <th>0</th>\n",
              "      <td>0</td>\n",
              "      <td>1467810369</td>\n",
              "      <td>Mon Apr 06 22:19:45 PDT 2009</td>\n",
              "      <td>NO_QUERY</td>\n",
              "      <td>_TheSpecialOne_</td>\n",
              "      <td>@switchfoot http://twitpic.com/2y1zl - Awww, t...</td>\n",
              "    </tr>\n",
              "    <tr>\n",
              "      <th>1</th>\n",
              "      <td>0</td>\n",
              "      <td>1467810672</td>\n",
              "      <td>Mon Apr 06 22:19:49 PDT 2009</td>\n",
              "      <td>NO_QUERY</td>\n",
              "      <td>scotthamilton</td>\n",
              "      <td>is upset that he can't update his Facebook by ...</td>\n",
              "    </tr>\n",
              "    <tr>\n",
              "      <th>2</th>\n",
              "      <td>0</td>\n",
              "      <td>1467810917</td>\n",
              "      <td>Mon Apr 06 22:19:53 PDT 2009</td>\n",
              "      <td>NO_QUERY</td>\n",
              "      <td>mattycus</td>\n",
              "      <td>@Kenichan I dived many times for the ball. Man...</td>\n",
              "    </tr>\n",
              "    <tr>\n",
              "      <th>3</th>\n",
              "      <td>0</td>\n",
              "      <td>1467811184</td>\n",
              "      <td>Mon Apr 06 22:19:57 PDT 2009</td>\n",
              "      <td>NO_QUERY</td>\n",
              "      <td>ElleCTF</td>\n",
              "      <td>my whole body feels itchy and like its on fire</td>\n",
              "    </tr>\n",
              "    <tr>\n",
              "      <th>4</th>\n",
              "      <td>0</td>\n",
              "      <td>1467811193</td>\n",
              "      <td>Mon Apr 06 22:19:57 PDT 2009</td>\n",
              "      <td>NO_QUERY</td>\n",
              "      <td>Karoli</td>\n",
              "      <td>@nationwideclass no, it's not behaving at all....</td>\n",
              "    </tr>\n",
              "  </tbody>\n",
              "</table>\n",
              "</div>"
            ],
            "text/plain": [
              "   0  ...                                                  5\n",
              "0  0  ...  @switchfoot http://twitpic.com/2y1zl - Awww, t...\n",
              "1  0  ...  is upset that he can't update his Facebook by ...\n",
              "2  0  ...  @Kenichan I dived many times for the ball. Man...\n",
              "3  0  ...    my whole body feels itchy and like its on fire \n",
              "4  0  ...  @nationwideclass no, it's not behaving at all....\n",
              "\n",
              "[5 rows x 6 columns]"
            ]
          },
          "metadata": {
            "tags": []
          },
          "execution_count": 143
        }
      ]
    },
    {
      "cell_type": "markdown",
      "metadata": {
        "id": "NiFN-XdjCgY-"
      },
      "source": [
        "## Text Cleaning"
      ]
    },
    {
      "cell_type": "code",
      "metadata": {
        "id": "aM74MlhbDHdP"
      },
      "source": [
        "def extract_regex(regex,tweet):\n",
        "  if re.search(regex,tweet) is not None:\n",
        "    return re.search(regex,tweet).group() \n",
        "  else:\n",
        "    return np.nan"
      ],
      "execution_count": 144,
      "outputs": []
    },
    {
      "cell_type": "code",
      "metadata": {
        "id": "MM0eRWc_CQr3"
      },
      "source": [
        "def clean_times(df):\n",
        "  days = ['Mon', 'Tue', 'Wed', 'Thu', 'Fri', 'Sat', 'Sun']\n",
        "  months = ['Apr','May','Jun']\n",
        "  days_regex = \"(\" + \")|(\".join(days) + \")\"\n",
        "  months_regex = \"(\" + \")|(\".join(months) + \")\"\n",
        "\n",
        "  df['weekday'] = df['created_at'].apply(lambda x: extract_regex(days_regex, x))\n",
        "  df['month'] = df['created_at'].apply(lambda x: extract_regex(months_regex, x))\n",
        "\n",
        "  df['created_at'] = df['created_at'].str.replace(days_regex, '')\n",
        "  df['created_at'] = df['created_at'].str.replace(months_regex, '')\n",
        "  df['created_at'] = df['created_at'].str.replace('PDT', '')\n",
        "  df['created_at'] = df['created_at'].str.replace('2009', '')\n",
        "  df['created_at'] = df['created_at'].str.replace('2009', '')\n",
        "\n",
        "  df['day'] = df['created_at'].str[2:4]\n",
        "  df['created_at'] = df['created_at'].str[4:]\n",
        "  df['created_at'] = df['created_at'].str.strip()\n",
        "  \n",
        "  return df"
      ],
      "execution_count": 145,
      "outputs": []
    },
    {
      "cell_type": "code",
      "metadata": {
        "id": "km6NlHxEB1Zt"
      },
      "source": [
        "def sentiment_cleaning_pipeline(df):\n",
        "  df = df.iloc[::20, :]\n",
        "  df = df.drop(columns = ['3'])\n",
        "  df = df.rename(columns={'0': 'polarity', '1': 'user_id', '2': 'created_at', '4': 'user_name', '5': 'tweet'})  \n",
        "  df = clean_times(df)\n",
        "\n",
        "  return df"
      ],
      "execution_count": 146,
      "outputs": []
    },
    {
      "cell_type": "code",
      "metadata": {
        "id": "P-f0Bc9MDeXL"
      },
      "source": [
        "sentiment140 = sentiment_cleaning_pipeline(sentiment140)"
      ],
      "execution_count": 147,
      "outputs": []
    },
    {
      "cell_type": "markdown",
      "metadata": {
        "id": "Vz5KOvZkCiF5"
      },
      "source": [
        "## Preprocessing"
      ]
    },
    {
      "cell_type": "code",
      "metadata": {
        "id": "YlraW3q5CjsI"
      },
      "source": [
        "english_stopwords = set(stopwords.words(\"english\"))\n",
        "lemma = WordNetLemmatizer()"
      ],
      "execution_count": 148,
      "outputs": []
    },
    {
      "cell_type": "code",
      "metadata": {
        "id": "xWN78Zy3CkVA"
      },
      "source": [
        "def clean_tweet(tweet):\n",
        "  tweet = re.sub('(http|ftp|https)://([\\w_-]+(?:(?:\\.[\\w_-]+)+))([\\w.,@?^=%&:/~+#-]*[\\w@?^=%&/~+#-])?', '', tweet) # remove url\n",
        "  tweet = re.sub('@\\S+', '', tweet) # remove handle\n",
        "  tweet = re.sub('[^a-zA-Z]', ' ', tweet) # remove non alphanumeric characters\n",
        "  tweet = str(tweet).lower() # make lowercase\n",
        "  tweet = word_tokenize(tweet) # tokenize into a list\n",
        "  tweet = [word for word in tweet if word not in english_stopwords] # remove stopwords\n",
        "  tweet = [lemma.lemmatize(word=w, pos='v') for w in tweet] # lemmatize\n",
        "  tweet = [word for word in tweet if len(word) > 2] # remove tokens smaller than 3\n",
        "  tweet = ' '.join(tweet) # rejoin tweet\n",
        "  return tweet"
      ],
      "execution_count": 149,
      "outputs": []
    },
    {
      "cell_type": "code",
      "metadata": {
        "colab": {
          "base_uri": "https://localhost:8080/",
          "height": 197
        },
        "id": "PZJJVKtsFQtv",
        "outputId": "58c976bb-8362-4894-fb1d-5653c269465a"
      },
      "source": [
        "sentiment140.head()"
      ],
      "execution_count": 150,
      "outputs": [
        {
          "output_type": "execute_result",
          "data": {
            "text/html": [
              "<div>\n",
              "<style scoped>\n",
              "    .dataframe tbody tr th:only-of-type {\n",
              "        vertical-align: middle;\n",
              "    }\n",
              "\n",
              "    .dataframe tbody tr th {\n",
              "        vertical-align: top;\n",
              "    }\n",
              "\n",
              "    .dataframe thead th {\n",
              "        text-align: right;\n",
              "    }\n",
              "</style>\n",
              "<table border=\"1\" class=\"dataframe\">\n",
              "  <thead>\n",
              "    <tr style=\"text-align: right;\">\n",
              "      <th></th>\n",
              "      <th>polarity</th>\n",
              "      <th>user_id</th>\n",
              "      <th>created_at</th>\n",
              "      <th>user_name</th>\n",
              "      <th>tweet</th>\n",
              "      <th>weekday</th>\n",
              "      <th>month</th>\n",
              "      <th>day</th>\n",
              "    </tr>\n",
              "  </thead>\n",
              "  <tbody>\n",
              "    <tr>\n",
              "      <th>0</th>\n",
              "      <td>0</td>\n",
              "      <td>1467810369</td>\n",
              "      <td>22:19:45</td>\n",
              "      <td>_TheSpecialOne_</td>\n",
              "      <td>@switchfoot http://twitpic.com/2y1zl - Awww, t...</td>\n",
              "      <td>Mon</td>\n",
              "      <td>Apr</td>\n",
              "      <td>06</td>\n",
              "    </tr>\n",
              "    <tr>\n",
              "      <th>20</th>\n",
              "      <td>0</td>\n",
              "      <td>1467813985</td>\n",
              "      <td>22:20:37</td>\n",
              "      <td>quanvu</td>\n",
              "      <td>@alydesigns i was out most of the day so didn'...</td>\n",
              "      <td>Mon</td>\n",
              "      <td>Apr</td>\n",
              "      <td>06</td>\n",
              "    </tr>\n",
              "    <tr>\n",
              "      <th>40</th>\n",
              "      <td>0</td>\n",
              "      <td>1467818020</td>\n",
              "      <td>22:21:39</td>\n",
              "      <td>itsanimesh</td>\n",
              "      <td>really don't feel like getting up today... but...</td>\n",
              "      <td>Mon</td>\n",
              "      <td>Apr</td>\n",
              "      <td>06</td>\n",
              "    </tr>\n",
              "    <tr>\n",
              "      <th>60</th>\n",
              "      <td>0</td>\n",
              "      <td>1467822687</td>\n",
              "      <td>22:22:52</td>\n",
              "      <td>xVivaLaJuicyx</td>\n",
              "      <td>@BatManYNG I miss my ps3, it's out of commissi...</td>\n",
              "      <td>Mon</td>\n",
              "      <td>Apr</td>\n",
              "      <td>06</td>\n",
              "    </tr>\n",
              "    <tr>\n",
              "      <th>80</th>\n",
              "      <td>0</td>\n",
              "      <td>1467834053</td>\n",
              "      <td>22:25:52</td>\n",
              "      <td>thelazyboy</td>\n",
              "      <td>sleep soon... i just hate saying bye and see y...</td>\n",
              "      <td>Mon</td>\n",
              "      <td>Apr</td>\n",
              "      <td>06</td>\n",
              "    </tr>\n",
              "  </tbody>\n",
              "</table>\n",
              "</div>"
            ],
            "text/plain": [
              "    polarity     user_id created_at  ... weekday month day\n",
              "0          0  1467810369   22:19:45  ...     Mon   Apr  06\n",
              "20         0  1467813985   22:20:37  ...     Mon   Apr  06\n",
              "40         0  1467818020   22:21:39  ...     Mon   Apr  06\n",
              "60         0  1467822687   22:22:52  ...     Mon   Apr  06\n",
              "80         0  1467834053   22:25:52  ...     Mon   Apr  06\n",
              "\n",
              "[5 rows x 8 columns]"
            ]
          },
          "metadata": {
            "tags": []
          },
          "execution_count": 150
        }
      ]
    },
    {
      "cell_type": "code",
      "metadata": {
        "id": "j5TYfKnEE0SZ"
      },
      "source": [
        "sentiment140 = sentiment140.dropna()"
      ],
      "execution_count": 151,
      "outputs": []
    },
    {
      "cell_type": "code",
      "metadata": {
        "id": "LIexuRiSCl2M"
      },
      "source": [
        "sentiment140['tweet'] = sentiment140['tweet'].apply(clean_tweet)"
      ],
      "execution_count": 152,
      "outputs": []
    },
    {
      "cell_type": "code",
      "metadata": {
        "id": "Gxud1gk9Er81"
      },
      "source": [
        "sentiment140 = sentiment140.sample(n=len(sentiment140)//2)"
      ],
      "execution_count": 153,
      "outputs": []
    },
    {
      "cell_type": "code",
      "metadata": {
        "id": "EEQYccqgOTGI"
      },
      "source": [
        "sentiment140['at_risk'] = 0"
      ],
      "execution_count": null,
      "outputs": []
    },
    {
      "cell_type": "code",
      "metadata": {
        "id": "oXYd1NclD7Iz"
      },
      "source": [
        "sentiment140.to_csv('/content/drive/MyDrive/Gap Year/SureStart/Makeathon/data/cleaned data/cleaned_s140.csv')"
      ],
      "execution_count": 154,
      "outputs": []
    },
    {
      "cell_type": "code",
      "metadata": {
        "colab": {
          "base_uri": "https://localhost:8080/",
          "height": 197
        },
        "id": "JTCy_Bb3FL9d",
        "outputId": "2f9c06e0-a6e8-4af2-d4ec-ed2461607958"
      },
      "source": [
        "sentiment140.head()"
      ],
      "execution_count": 155,
      "outputs": [
        {
          "output_type": "execute_result",
          "data": {
            "text/html": [
              "<div>\n",
              "<style scoped>\n",
              "    .dataframe tbody tr th:only-of-type {\n",
              "        vertical-align: middle;\n",
              "    }\n",
              "\n",
              "    .dataframe tbody tr th {\n",
              "        vertical-align: top;\n",
              "    }\n",
              "\n",
              "    .dataframe thead th {\n",
              "        text-align: right;\n",
              "    }\n",
              "</style>\n",
              "<table border=\"1\" class=\"dataframe\">\n",
              "  <thead>\n",
              "    <tr style=\"text-align: right;\">\n",
              "      <th></th>\n",
              "      <th>polarity</th>\n",
              "      <th>user_id</th>\n",
              "      <th>created_at</th>\n",
              "      <th>user_name</th>\n",
              "      <th>tweet</th>\n",
              "      <th>weekday</th>\n",
              "      <th>month</th>\n",
              "      <th>day</th>\n",
              "    </tr>\n",
              "  </thead>\n",
              "  <tbody>\n",
              "    <tr>\n",
              "      <th>800000</th>\n",
              "      <td>4</td>\n",
              "      <td>1467822272</td>\n",
              "      <td>22:22:45</td>\n",
              "      <td>ersle</td>\n",
              "      <td>love guy best</td>\n",
              "      <td>Mon</td>\n",
              "      <td>Apr</td>\n",
              "      <td>06</td>\n",
              "    </tr>\n",
              "    <tr>\n",
              "      <th>800020</th>\n",
              "      <td>4</td>\n",
              "      <td>1467822994</td>\n",
              "      <td>22:22:56</td>\n",
              "      <td>sorano916</td>\n",
              "      <td>place peep contest thank vote anyways</td>\n",
              "      <td>Mon</td>\n",
              "      <td>Apr</td>\n",
              "      <td>06</td>\n",
              "    </tr>\n",
              "    <tr>\n",
              "      <th>800040</th>\n",
              "      <td>4</td>\n",
              "      <td>1467824005</td>\n",
              "      <td>22:23:14</td>\n",
              "      <td>subwaystory</td>\n",
              "      <td>dry sweet potato huh</td>\n",
              "      <td>Mon</td>\n",
              "      <td>Apr</td>\n",
              "      <td>06</td>\n",
              "    </tr>\n",
              "    <tr>\n",
              "      <th>800060</th>\n",
              "      <td>4</td>\n",
              "      <td>1467824828</td>\n",
              "      <td>22:23:25</td>\n",
              "      <td>suitelifeofkell</td>\n",
              "      <td>sorrry like different things kevin jonas girlf...</td>\n",
              "      <td>Mon</td>\n",
              "      <td>Apr</td>\n",
              "      <td>06</td>\n",
              "    </tr>\n",
              "    <tr>\n",
              "      <th>800080</th>\n",
              "      <td>4</td>\n",
              "      <td>1467825506</td>\n",
              "      <td>22:23:36</td>\n",
              "      <td>skinnylatte</td>\n",
              "      <td>depend version think one know like</td>\n",
              "      <td>Mon</td>\n",
              "      <td>Apr</td>\n",
              "      <td>06</td>\n",
              "    </tr>\n",
              "  </tbody>\n",
              "</table>\n",
              "</div>"
            ],
            "text/plain": [
              "        polarity     user_id created_at  ... weekday month day\n",
              "800000         4  1467822272   22:22:45  ...     Mon   Apr  06\n",
              "800020         4  1467822994   22:22:56  ...     Mon   Apr  06\n",
              "800040         4  1467824005   22:23:14  ...     Mon   Apr  06\n",
              "800060         4  1467824828   22:23:25  ...     Mon   Apr  06\n",
              "800080         4  1467825506   22:23:36  ...     Mon   Apr  06\n",
              "\n",
              "[5 rows x 8 columns]"
            ]
          },
          "metadata": {
            "tags": []
          },
          "execution_count": 155
        }
      ]
    },
    {
      "cell_type": "markdown",
      "metadata": {
        "id": "Yvv1wfzTFlDm"
      },
      "source": [
        "## Twitter Tweets"
      ]
    },
    {
      "cell_type": "code",
      "metadata": {
        "id": "OfDKWYhGUWRD"
      },
      "source": [
        "twitter = pd.read_csv('/content/drive/MyDrive/Gap Year/SureStart/Makeathon/data/suicide_tweets_df.csv')"
      ],
      "execution_count": 156,
      "outputs": []
    },
    {
      "cell_type": "code",
      "metadata": {
        "id": "ed53jzUgVBAr",
        "colab": {
          "base_uri": "https://localhost:8080/",
          "height": 467
        },
        "outputId": "52c44f1f-516b-4d4d-fa35-931b76e34163"
      },
      "source": [
        "twitter.head()"
      ],
      "execution_count": 157,
      "outputs": [
        {
          "output_type": "execute_result",
          "data": {
            "text/html": [
              "<div>\n",
              "<style scoped>\n",
              "    .dataframe tbody tr th:only-of-type {\n",
              "        vertical-align: middle;\n",
              "    }\n",
              "\n",
              "    .dataframe tbody tr th {\n",
              "        vertical-align: top;\n",
              "    }\n",
              "\n",
              "    .dataframe thead th {\n",
              "        text-align: right;\n",
              "    }\n",
              "</style>\n",
              "<table border=\"1\" class=\"dataframe\">\n",
              "  <thead>\n",
              "    <tr style=\"text-align: right;\">\n",
              "      <th></th>\n",
              "      <th>created_at</th>\n",
              "      <th>text</th>\n",
              "      <th>user_name</th>\n",
              "      <th>screen_name</th>\n",
              "      <th>location</th>\n",
              "      <th>friends_count</th>\n",
              "      <th>followers_count</th>\n",
              "      <th>is_quote_status</th>\n",
              "      <th>retweet_count</th>\n",
              "      <th>favorite_count</th>\n",
              "      <th>retweeted</th>\n",
              "      <th>favorited</th>\n",
              "      <th>verified</th>\n",
              "      <th>protected</th>\n",
              "      <th>lang</th>\n",
              "    </tr>\n",
              "  </thead>\n",
              "  <tbody>\n",
              "    <tr>\n",
              "      <th>0</th>\n",
              "      <td>2021-03-15 01:22:21</td>\n",
              "      <td>O HARRY FANHOU????</td>\n",
              "      <td>Maria</td>\n",
              "      <td>shawuanlover</td>\n",
              "      <td>𝑺𝒂𝒏 𝑭𝒓𝒂𝒏𝒄𝒊𝒔𝒄𝒐</td>\n",
              "      <td>1359</td>\n",
              "      <td>1520</td>\n",
              "      <td>False</td>\n",
              "      <td>0</td>\n",
              "      <td>0</td>\n",
              "      <td>False</td>\n",
              "      <td>False</td>\n",
              "      <td>False</td>\n",
              "      <td>False</td>\n",
              "      <td>en</td>\n",
              "    </tr>\n",
              "    <tr>\n",
              "      <th>1</th>\n",
              "      <td>2021-03-15 01:22:21</td>\n",
              "      <td>YEAHHH HARRYY YOU BLOODY LEGEND YOUUU</td>\n",
              "      <td>EVE⛈HEARTBREAK WEATHER</td>\n",
              "      <td>NEWANGEL93</td>\n",
              "      <td>San Francisco, CA</td>\n",
              "      <td>449</td>\n",
              "      <td>282</td>\n",
              "      <td>False</td>\n",
              "      <td>0</td>\n",
              "      <td>0</td>\n",
              "      <td>False</td>\n",
              "      <td>False</td>\n",
              "      <td>False</td>\n",
              "      <td>False</td>\n",
              "      <td>en</td>\n",
              "    </tr>\n",
              "    <tr>\n",
              "      <th>2</th>\n",
              "      <td>2021-03-15 01:22:21</td>\n",
              "      <td>RT @priceactionkim: 👉 The PATI Members only ne...</td>\n",
              "      <td>Kevin Hunt▫️Forex Trader</td>\n",
              "      <td>uk2asia</td>\n",
              "      <td>Asia/London UK</td>\n",
              "      <td>125</td>\n",
              "      <td>4335</td>\n",
              "      <td>False</td>\n",
              "      <td>1</td>\n",
              "      <td>0</td>\n",
              "      <td>False</td>\n",
              "      <td>False</td>\n",
              "      <td>False</td>\n",
              "      <td>False</td>\n",
              "      <td>en</td>\n",
              "    </tr>\n",
              "    <tr>\n",
              "      <th>3</th>\n",
              "      <td>2021-03-15 01:22:21</td>\n",
              "      <td>RT @warriors: 32 points &amp;amp; 9 dimes on his 3...</td>\n",
              "      <td>KiDD | kaSOLID ✌</td>\n",
              "      <td>aldrinkidd_</td>\n",
              "      <td>Angeles City, Central Luzon</td>\n",
              "      <td>769</td>\n",
              "      <td>658</td>\n",
              "      <td>False</td>\n",
              "      <td>556</td>\n",
              "      <td>0</td>\n",
              "      <td>False</td>\n",
              "      <td>False</td>\n",
              "      <td>False</td>\n",
              "      <td>False</td>\n",
              "      <td>en</td>\n",
              "    </tr>\n",
              "    <tr>\n",
              "      <th>4</th>\n",
              "      <td>2021-03-15 01:22:20</td>\n",
              "      <td>RT @RBReich: I don't know who needs to hear th...</td>\n",
              "      <td>jhin🇺🇸💙</td>\n",
              "      <td>jhin58794874</td>\n",
              "      <td>NaN</td>\n",
              "      <td>625</td>\n",
              "      <td>174</td>\n",
              "      <td>False</td>\n",
              "      <td>2006</td>\n",
              "      <td>0</td>\n",
              "      <td>False</td>\n",
              "      <td>False</td>\n",
              "      <td>False</td>\n",
              "      <td>False</td>\n",
              "      <td>en</td>\n",
              "    </tr>\n",
              "  </tbody>\n",
              "</table>\n",
              "</div>"
            ],
            "text/plain": [
              "            created_at  ... lang\n",
              "0  2021-03-15 01:22:21  ...   en\n",
              "1  2021-03-15 01:22:21  ...   en\n",
              "2  2021-03-15 01:22:21  ...   en\n",
              "3  2021-03-15 01:22:21  ...   en\n",
              "4  2021-03-15 01:22:20  ...   en\n",
              "\n",
              "[5 rows x 15 columns]"
            ]
          },
          "metadata": {
            "tags": []
          },
          "execution_count": 157
        }
      ]
    },
    {
      "cell_type": "code",
      "metadata": {
        "id": "5NFNoLhEKB1f"
      },
      "source": [
        "def find_weekday(row, day_not_weekday=False):\n",
        "  regex_match = re.match('^([^\\s]+)', row)\n",
        "  date = regex_match.group()\n",
        "  days = ['Mon', 'Tue', 'Wed', 'Thu', 'Fri', 'Sat', 'Sun']\n",
        "  year, month, day = (int(x) for x in date.split('-'))\n",
        "\n",
        "  if day_not_weekday:\n",
        "    return day\n",
        "  else:\n",
        "    return days[datetime.date(year, month, day).weekday()]"
      ],
      "execution_count": 158,
      "outputs": []
    },
    {
      "cell_type": "code",
      "metadata": {
        "id": "jRh-FY45JfqX"
      },
      "source": [
        "def clean_twitter_times(df):\n",
        "  days = ['Mon', 'Tue', 'Wed', 'Thu', 'Fri', 'Sat', 'Sun']\n",
        "\n",
        "  df['weekday'] = df['created_at'].apply(find_weekday)\n",
        "  df['month'] = 'Mar'\n",
        "  df['day'] = df['created_at'].apply(find_weekday, day_not_weekday=True)\n",
        "\n",
        "  df['created_at'] = df['created_at'].str[-8:]\n",
        "  df['created_at'] = df['created_at'].str.strip()\n",
        "  \n",
        "  return df"
      ],
      "execution_count": 159,
      "outputs": []
    },
    {
      "cell_type": "code",
      "metadata": {
        "id": "pa9BhLZDFIKB"
      },
      "source": [
        "def twitter_cleaning_pipeline(df):\n",
        "  df = df.drop(columns = [col for col in df.columns if col not in ['created_at', 'text', 'screen_name']])\n",
        "  df = df.rename(columns={'screen_name': 'user_name', 'text':'tweet'})  \n",
        "  df = clean_twitter_times(df)\n",
        "\n",
        "  return df"
      ],
      "execution_count": 160,
      "outputs": []
    },
    {
      "cell_type": "code",
      "metadata": {
        "id": "f5Rrg-R3JV8u"
      },
      "source": [
        "twitter = twitter_cleaning_pipeline(twitter)"
      ],
      "execution_count": 161,
      "outputs": []
    },
    {
      "cell_type": "code",
      "metadata": {
        "id": "l3s3t-g7NJTL"
      },
      "source": [
        "twitter = twitter.dropna()"
      ],
      "execution_count": 162,
      "outputs": []
    },
    {
      "cell_type": "code",
      "metadata": {
        "id": "hw8aJCRkNS18"
      },
      "source": [
        "twitter['tweet'] = twitter['tweet'].apply(clean_tweet)"
      ],
      "execution_count": 164,
      "outputs": []
    },
    {
      "cell_type": "code",
      "metadata": {
        "colab": {
          "base_uri": "https://localhost:8080/",
          "height": 406
        },
        "id": "UuHnfp45No_l",
        "outputId": "08b0e5a2-c80b-43a2-985f-9d12ff0705bb"
      },
      "source": [
        "twitter"
      ],
      "execution_count": 165,
      "outputs": [
        {
          "output_type": "execute_result",
          "data": {
            "text/html": [
              "<div>\n",
              "<style scoped>\n",
              "    .dataframe tbody tr th:only-of-type {\n",
              "        vertical-align: middle;\n",
              "    }\n",
              "\n",
              "    .dataframe tbody tr th {\n",
              "        vertical-align: top;\n",
              "    }\n",
              "\n",
              "    .dataframe thead th {\n",
              "        text-align: right;\n",
              "    }\n",
              "</style>\n",
              "<table border=\"1\" class=\"dataframe\">\n",
              "  <thead>\n",
              "    <tr style=\"text-align: right;\">\n",
              "      <th></th>\n",
              "      <th>created_at</th>\n",
              "      <th>tweet</th>\n",
              "      <th>user_name</th>\n",
              "      <th>weekday</th>\n",
              "      <th>month</th>\n",
              "      <th>day</th>\n",
              "    </tr>\n",
              "  </thead>\n",
              "  <tbody>\n",
              "    <tr>\n",
              "      <th>0</th>\n",
              "      <td>01:22:21</td>\n",
              "      <td>harry fanhou</td>\n",
              "      <td>shawuanlover</td>\n",
              "      <td>Mon</td>\n",
              "      <td>Mar</td>\n",
              "      <td>15</td>\n",
              "    </tr>\n",
              "    <tr>\n",
              "      <th>1</th>\n",
              "      <td>01:22:21</td>\n",
              "      <td>yeahhh harryy bloody legend youuu</td>\n",
              "      <td>NEWANGEL93</td>\n",
              "      <td>Mon</td>\n",
              "      <td>Mar</td>\n",
              "      <td>15</td>\n",
              "    </tr>\n",
              "    <tr>\n",
              "      <th>2</th>\n",
              "      <td>01:22:21</td>\n",
              "      <td>pati members newsletter send inbox please chec...</td>\n",
              "      <td>uk2asia</td>\n",
              "      <td>Mon</td>\n",
              "      <td>Mar</td>\n",
              "      <td>15</td>\n",
              "    </tr>\n",
              "    <tr>\n",
              "      <th>3</th>\n",
              "      <td>01:22:21</td>\n",
              "      <td>point amp dim birthday dubnation</td>\n",
              "      <td>aldrinkidd_</td>\n",
              "      <td>Mon</td>\n",
              "      <td>Mar</td>\n",
              "      <td>15</td>\n",
              "    </tr>\n",
              "    <tr>\n",
              "      <th>4</th>\n",
              "      <td>01:22:20</td>\n",
              "      <td>know need hear bipartisanship pay bill put foo...</td>\n",
              "      <td>jhin58794874</td>\n",
              "      <td>Mon</td>\n",
              "      <td>Mar</td>\n",
              "      <td>15</td>\n",
              "    </tr>\n",
              "    <tr>\n",
              "      <th>...</th>\n",
              "      <td>...</td>\n",
              "      <td>...</td>\n",
              "      <td>...</td>\n",
              "      <td>...</td>\n",
              "      <td>...</td>\n",
              "      <td>...</td>\n",
              "    </tr>\n",
              "    <tr>\n",
              "      <th>9915</th>\n",
              "      <td>01:23:31</td>\n",
              "      <td>fuck alone fuck depress want anymore</td>\n",
              "      <td>superdupercud</td>\n",
              "      <td>Mon</td>\n",
              "      <td>Mar</td>\n",
              "      <td>8</td>\n",
              "    </tr>\n",
              "    <tr>\n",
              "      <th>9916</th>\n",
              "      <td>01:21:55</td>\n",
              "      <td>want get high play video game parent house wan...</td>\n",
              "      <td>dietcucumber</td>\n",
              "      <td>Mon</td>\n",
              "      <td>Mar</td>\n",
              "      <td>8</td>\n",
              "    </tr>\n",
              "    <tr>\n",
              "      <th>9917</th>\n",
              "      <td>00:22:05</td>\n",
              "      <td>tire feel alone time feel like drown let anyon...</td>\n",
              "      <td>taespooon</td>\n",
              "      <td>Mon</td>\n",
              "      <td>Mar</td>\n",
              "      <td>8</td>\n",
              "    </tr>\n",
              "    <tr>\n",
              "      <th>9918</th>\n",
              "      <td>00:16:04</td>\n",
              "      <td>tell friends dont want let friendship die also...</td>\n",
              "      <td>androidWG</td>\n",
              "      <td>Mon</td>\n",
              "      <td>Mar</td>\n",
              "      <td>8</td>\n",
              "    </tr>\n",
              "    <tr>\n",
              "      <th>9919</th>\n",
              "      <td>23:16:53</td>\n",
              "      <td>yes would delightful sup</td>\n",
              "      <td>gherlein</td>\n",
              "      <td>Sun</td>\n",
              "      <td>Mar</td>\n",
              "      <td>7</td>\n",
              "    </tr>\n",
              "  </tbody>\n",
              "</table>\n",
              "<p>9920 rows × 6 columns</p>\n",
              "</div>"
            ],
            "text/plain": [
              "     created_at                                              tweet  ... month day\n",
              "0      01:22:21                                       harry fanhou  ...   Mar  15\n",
              "1      01:22:21                  yeahhh harryy bloody legend youuu  ...   Mar  15\n",
              "2      01:22:21  pati members newsletter send inbox please chec...  ...   Mar  15\n",
              "3      01:22:21                   point amp dim birthday dubnation  ...   Mar  15\n",
              "4      01:22:20  know need hear bipartisanship pay bill put foo...  ...   Mar  15\n",
              "...         ...                                                ...  ...   ...  ..\n",
              "9915   01:23:31               fuck alone fuck depress want anymore  ...   Mar   8\n",
              "9916   01:21:55  want get high play video game parent house wan...  ...   Mar   8\n",
              "9917   00:22:05  tire feel alone time feel like drown let anyon...  ...   Mar   8\n",
              "9918   00:16:04  tell friends dont want let friendship die also...  ...   Mar   8\n",
              "9919   23:16:53                           yes would delightful sup  ...   Mar   7\n",
              "\n",
              "[9920 rows x 6 columns]"
            ]
          },
          "metadata": {
            "tags": []
          },
          "execution_count": 165
        }
      ]
    },
    {
      "cell_type": "code",
      "metadata": {
        "id": "erI336xOON01"
      },
      "source": [
        "twitter['at_risk'] = 1"
      ],
      "execution_count": 174,
      "outputs": []
    },
    {
      "cell_type": "code",
      "metadata": {
        "id": "x_CmAVulOFa1"
      },
      "source": [
        "twitter.to_csv('/content/drive/MyDrive/Gap Year/SureStart/Makeathon/data/cleaned data/cleaned_twitter.csv')"
      ],
      "execution_count": 171,
      "outputs": []
    }
  ]
}