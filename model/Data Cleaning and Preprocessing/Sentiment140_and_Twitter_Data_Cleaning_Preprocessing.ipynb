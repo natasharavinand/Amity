{
  "nbformat": 4,
  "nbformat_minor": 0,
  "metadata": {
    "colab": {
      "name": "Sentiment140 and Twitter Data Cleaning/Preprocessing.ipynb",
      "provenance": [],
      "collapsed_sections": [],
      "toc_visible": true
    },
    "kernelspec": {
      "name": "python3",
      "display_name": "Python 3"
    }
  },
  "cells": [
    {
      "cell_type": "markdown",
      "metadata": {
        "id": "3aHA3rMiFmxj"
      },
      "source": [
        "# Sentiment140 and Twitter Data Cleaning/Preprocessing"
      ]
    },
    {
      "cell_type": "code",
      "metadata": {
        "id": "G6kcR8Pfjo9L",
        "colab": {
          "base_uri": "https://localhost:8080/"
        },
        "outputId": "3e0477fc-ebb7-4286-bf91-679566dd7076"
      },
      "source": [
        "import pandas as pd\n",
        "import numpy as np\n",
        "import time\n",
        "\n",
        "import re\n",
        "\n",
        "import nltk\n",
        "from nltk.tokenize import word_tokenize\n",
        "from nltk.corpus import stopwords\n",
        "from nltk.stem import PorterStemmer\n",
        "from nltk.stem import WordNetLemmatizer\n",
        "\n",
        "nltk.download('punkt')\n",
        "nltk.download('stopwords')\n",
        "nltk.download('wordnet')"
      ],
      "execution_count": 58,
      "outputs": [
        {
          "output_type": "stream",
          "text": [
            "[nltk_data] Downloading package punkt to /root/nltk_data...\n",
            "[nltk_data]   Package punkt is already up-to-date!\n",
            "[nltk_data] Downloading package stopwords to /root/nltk_data...\n",
            "[nltk_data]   Package stopwords is already up-to-date!\n",
            "[nltk_data] Downloading package wordnet to /root/nltk_data...\n",
            "[nltk_data]   Package wordnet is already up-to-date!\n"
          ],
          "name": "stdout"
        },
        {
          "output_type": "execute_result",
          "data": {
            "text/plain": [
              "True"
            ]
          },
          "metadata": {
            "tags": []
          },
          "execution_count": 58
        }
      ]
    },
    {
      "cell_type": "code",
      "metadata": {
        "colab": {
          "base_uri": "https://localhost:8080/"
        },
        "id": "6_oPSsjPmDZA",
        "outputId": "012af122-6fc1-4c5d-85a5-42032cec4a7d"
      },
      "source": [
        "from google.colab import drive\n",
        "drive.mount('/content/drive')"
      ],
      "execution_count": 59,
      "outputs": [
        {
          "output_type": "stream",
          "text": [
            "Drive already mounted at /content/drive; to attempt to forcibly remount, call drive.mount(\"/content/drive\", force_remount=True).\n"
          ],
          "name": "stdout"
        }
      ]
    },
    {
      "cell_type": "markdown",
      "metadata": {
        "id": "FS88ACAIAQkl"
      },
      "source": [
        "## Sentiment 140"
      ]
    },
    {
      "cell_type": "code",
      "metadata": {
        "id": "TrkGJrL1i981"
      },
      "source": [
        "sentiment140 = pd.read_csv('/content/drive/MyDrive/Gap Year/SureStart/Makeathon/data/sentiment140.csv', encoding=\"ISO-8859-1\", names=[\"0\", \"1\", \"2\", \"3\", \"4\", \"5\"])"
      ],
      "execution_count": 60,
      "outputs": []
    },
    {
      "cell_type": "code",
      "metadata": {
        "colab": {
          "base_uri": "https://localhost:8080/",
          "height": 197
        },
        "id": "HHmlcoGWCsUS",
        "outputId": "d18c8d61-318b-4fb0-ab3c-c5c53df976c9"
      },
      "source": [
        "sentiment140.head()"
      ],
      "execution_count": 61,
      "outputs": [
        {
          "output_type": "execute_result",
          "data": {
            "text/html": [
              "<div>\n",
              "<style scoped>\n",
              "    .dataframe tbody tr th:only-of-type {\n",
              "        vertical-align: middle;\n",
              "    }\n",
              "\n",
              "    .dataframe tbody tr th {\n",
              "        vertical-align: top;\n",
              "    }\n",
              "\n",
              "    .dataframe thead th {\n",
              "        text-align: right;\n",
              "    }\n",
              "</style>\n",
              "<table border=\"1\" class=\"dataframe\">\n",
              "  <thead>\n",
              "    <tr style=\"text-align: right;\">\n",
              "      <th></th>\n",
              "      <th>0</th>\n",
              "      <th>1</th>\n",
              "      <th>2</th>\n",
              "      <th>3</th>\n",
              "      <th>4</th>\n",
              "      <th>5</th>\n",
              "    </tr>\n",
              "  </thead>\n",
              "  <tbody>\n",
              "    <tr>\n",
              "      <th>0</th>\n",
              "      <td>0</td>\n",
              "      <td>1467810369</td>\n",
              "      <td>Mon Apr 06 22:19:45 PDT 2009</td>\n",
              "      <td>NO_QUERY</td>\n",
              "      <td>_TheSpecialOne_</td>\n",
              "      <td>@switchfoot http://twitpic.com/2y1zl - Awww, t...</td>\n",
              "    </tr>\n",
              "    <tr>\n",
              "      <th>1</th>\n",
              "      <td>0</td>\n",
              "      <td>1467810672</td>\n",
              "      <td>Mon Apr 06 22:19:49 PDT 2009</td>\n",
              "      <td>NO_QUERY</td>\n",
              "      <td>scotthamilton</td>\n",
              "      <td>is upset that he can't update his Facebook by ...</td>\n",
              "    </tr>\n",
              "    <tr>\n",
              "      <th>2</th>\n",
              "      <td>0</td>\n",
              "      <td>1467810917</td>\n",
              "      <td>Mon Apr 06 22:19:53 PDT 2009</td>\n",
              "      <td>NO_QUERY</td>\n",
              "      <td>mattycus</td>\n",
              "      <td>@Kenichan I dived many times for the ball. Man...</td>\n",
              "    </tr>\n",
              "    <tr>\n",
              "      <th>3</th>\n",
              "      <td>0</td>\n",
              "      <td>1467811184</td>\n",
              "      <td>Mon Apr 06 22:19:57 PDT 2009</td>\n",
              "      <td>NO_QUERY</td>\n",
              "      <td>ElleCTF</td>\n",
              "      <td>my whole body feels itchy and like its on fire</td>\n",
              "    </tr>\n",
              "    <tr>\n",
              "      <th>4</th>\n",
              "      <td>0</td>\n",
              "      <td>1467811193</td>\n",
              "      <td>Mon Apr 06 22:19:57 PDT 2009</td>\n",
              "      <td>NO_QUERY</td>\n",
              "      <td>Karoli</td>\n",
              "      <td>@nationwideclass no, it's not behaving at all....</td>\n",
              "    </tr>\n",
              "  </tbody>\n",
              "</table>\n",
              "</div>"
            ],
            "text/plain": [
              "   0  ...                                                  5\n",
              "0  0  ...  @switchfoot http://twitpic.com/2y1zl - Awww, t...\n",
              "1  0  ...  is upset that he can't update his Facebook by ...\n",
              "2  0  ...  @Kenichan I dived many times for the ball. Man...\n",
              "3  0  ...    my whole body feels itchy and like its on fire \n",
              "4  0  ...  @nationwideclass no, it's not behaving at all....\n",
              "\n",
              "[5 rows x 6 columns]"
            ]
          },
          "metadata": {
            "tags": []
          },
          "execution_count": 61
        }
      ]
    },
    {
      "cell_type": "markdown",
      "metadata": {
        "id": "NiFN-XdjCgY-"
      },
      "source": [
        "## Text Cleaning"
      ]
    },
    {
      "cell_type": "code",
      "metadata": {
        "id": "MM0eRWc_CQr3"
      },
      "source": [
        "def clean_times(df):\n",
        "  days = ['Mon', 'Tue', 'Wed', 'Thu', 'Fri', 'Sat', 'Sun']\n",
        "  months = ['Apr','May','Jun']\n",
        "  days_regex = \"(\" + \")|(\".join(days) + \")\"\n",
        "  months_regex = \"(\" + \")|(\".join(months) + \")\"\n",
        "\n",
        "  df['weekday'] = df['created_at'].apply(lambda x: extract_regex(days_regex, x))\n",
        "  df['month'] = df['created_at'].apply(lambda x: extract_regex(months_regex, x))\n",
        "\n",
        "  df['created_at'] = df['created_at'].str.replace(days_regex, '')\n",
        "  df['created_at'] = df['created_at'].str.replace(months_regex, '')\n",
        "  df['created_at'] = df['created_at'].str.replace('PDT', '')\n",
        "  df['created_at'] = df['created_at'].str.replace('2009', '')\n",
        "  df['created_at'] = df['created_at'].str.replace('2009', '')\n",
        "\n",
        "  df['day'] = df['created_at'].str[2:4]\n",
        "  df['created_at'] = df['created_at'].str[4:]\n",
        "  df['created_at'] = df['created_at'].str.strip()\n",
        "  \n",
        "  return df"
      ],
      "execution_count": 63,
      "outputs": []
    },
    {
      "cell_type": "code",
      "metadata": {
        "id": "km6NlHxEB1Zt"
      },
      "source": [
        "def sentiment_cleaning_pipeline(df):\n",
        "  df = df.iloc[::20, :]\n",
        "  df = df.drop(columns = ['3'])\n",
        "  df = df.rename(columns={'0': 'polarity', '1': 'user_id', '2': 'created_at', '4': 'user_name', '5': 'tweet'})  \n",
        "\n",
        "  df = clean_times(df)\n",
        "\n",
        "  return df"
      ],
      "execution_count": 64,
      "outputs": []
    },
    {
      "cell_type": "code",
      "metadata": {
        "id": "P-f0Bc9MDeXL"
      },
      "source": [
        "sentiment140 = sentiment_cleaning_pipeline(sentiment140)"
      ],
      "execution_count": 65,
      "outputs": []
    },
    {
      "cell_type": "code",
      "metadata": {
        "colab": {
          "base_uri": "https://localhost:8080/",
          "height": 406
        },
        "id": "rpDhQ3foD8Ca",
        "outputId": "1f4d047e-8dc8-4efa-d1c9-ec240983b3a8"
      },
      "source": [
        "sentiment140"
      ],
      "execution_count": 66,
      "outputs": [
        {
          "output_type": "execute_result",
          "data": {
            "text/html": [
              "<div>\n",
              "<style scoped>\n",
              "    .dataframe tbody tr th:only-of-type {\n",
              "        vertical-align: middle;\n",
              "    }\n",
              "\n",
              "    .dataframe tbody tr th {\n",
              "        vertical-align: top;\n",
              "    }\n",
              "\n",
              "    .dataframe thead th {\n",
              "        text-align: right;\n",
              "    }\n",
              "</style>\n",
              "<table border=\"1\" class=\"dataframe\">\n",
              "  <thead>\n",
              "    <tr style=\"text-align: right;\">\n",
              "      <th></th>\n",
              "      <th>polarity</th>\n",
              "      <th>user_id</th>\n",
              "      <th>created_at</th>\n",
              "      <th>user_name</th>\n",
              "      <th>tweet</th>\n",
              "      <th>weekday</th>\n",
              "      <th>month</th>\n",
              "      <th>day</th>\n",
              "    </tr>\n",
              "  </thead>\n",
              "  <tbody>\n",
              "    <tr>\n",
              "      <th>0</th>\n",
              "      <td>0</td>\n",
              "      <td>1467810369</td>\n",
              "      <td>22:19:45</td>\n",
              "      <td>_TheSpecialOne_</td>\n",
              "      <td>@switchfoot http://twitpic.com/2y1zl - Awww, t...</td>\n",
              "      <td>Mon</td>\n",
              "      <td>Apr</td>\n",
              "      <td>06</td>\n",
              "    </tr>\n",
              "    <tr>\n",
              "      <th>20</th>\n",
              "      <td>0</td>\n",
              "      <td>1467813985</td>\n",
              "      <td>22:20:37</td>\n",
              "      <td>quanvu</td>\n",
              "      <td>@alydesigns i was out most of the day so didn'...</td>\n",
              "      <td>Mon</td>\n",
              "      <td>Apr</td>\n",
              "      <td>06</td>\n",
              "    </tr>\n",
              "    <tr>\n",
              "      <th>40</th>\n",
              "      <td>0</td>\n",
              "      <td>1467818020</td>\n",
              "      <td>22:21:39</td>\n",
              "      <td>itsanimesh</td>\n",
              "      <td>really don't feel like getting up today... but...</td>\n",
              "      <td>Mon</td>\n",
              "      <td>Apr</td>\n",
              "      <td>06</td>\n",
              "    </tr>\n",
              "    <tr>\n",
              "      <th>60</th>\n",
              "      <td>0</td>\n",
              "      <td>1467822687</td>\n",
              "      <td>22:22:52</td>\n",
              "      <td>xVivaLaJuicyx</td>\n",
              "      <td>@BatManYNG I miss my ps3, it's out of commissi...</td>\n",
              "      <td>Mon</td>\n",
              "      <td>Apr</td>\n",
              "      <td>06</td>\n",
              "    </tr>\n",
              "    <tr>\n",
              "      <th>80</th>\n",
              "      <td>0</td>\n",
              "      <td>1467834053</td>\n",
              "      <td>22:25:52</td>\n",
              "      <td>thelazyboy</td>\n",
              "      <td>sleep soon... i just hate saying bye and see y...</td>\n",
              "      <td>Mon</td>\n",
              "      <td>Apr</td>\n",
              "      <td>06</td>\n",
              "    </tr>\n",
              "    <tr>\n",
              "      <th>...</th>\n",
              "      <td>...</td>\n",
              "      <td>...</td>\n",
              "      <td>...</td>\n",
              "      <td>...</td>\n",
              "      <td>...</td>\n",
              "      <td>...</td>\n",
              "      <td>...</td>\n",
              "      <td>...</td>\n",
              "    </tr>\n",
              "    <tr>\n",
              "      <th>1599900</th>\n",
              "      <td>4</td>\n",
              "      <td>2193574897</td>\n",
              "      <td>08:38:37</td>\n",
              "      <td>johnwelshphd</td>\n",
              "      <td>@cris1015 My goal on stocks like $MTXX is to h...</td>\n",
              "      <td>Tue</td>\n",
              "      <td>Jun</td>\n",
              "      <td>16</td>\n",
              "    </tr>\n",
              "    <tr>\n",
              "      <th>1599920</th>\n",
              "      <td>4</td>\n",
              "      <td>2193575839</td>\n",
              "      <td>08:38:42</td>\n",
              "      <td>bendotorg</td>\n",
              "      <td>Largest/fastest hotspot in U.S.A. is located i...</td>\n",
              "      <td>Tue</td>\n",
              "      <td>Jun</td>\n",
              "      <td>16</td>\n",
              "    </tr>\n",
              "    <tr>\n",
              "      <th>1599940</th>\n",
              "      <td>4</td>\n",
              "      <td>2193576797</td>\n",
              "      <td>08:38:47</td>\n",
              "      <td>jaycemiguel</td>\n",
              "      <td>@MsKCJones Yeah it's very irritating, right? B...</td>\n",
              "      <td>Tue</td>\n",
              "      <td>Jun</td>\n",
              "      <td>16</td>\n",
              "    </tr>\n",
              "    <tr>\n",
              "      <th>1599960</th>\n",
              "      <td>4</td>\n",
              "      <td>2193577726</td>\n",
              "      <td>08:38:52</td>\n",
              "      <td>FrayBaby</td>\n",
              "      <td>@pokapolas love the donut and the toadstool.</td>\n",
              "      <td>Tue</td>\n",
              "      <td>Jun</td>\n",
              "      <td>16</td>\n",
              "    </tr>\n",
              "    <tr>\n",
              "      <th>1599980</th>\n",
              "      <td>4</td>\n",
              "      <td>2193578679</td>\n",
              "      <td>08:38:56</td>\n",
              "      <td>puchal_ek</td>\n",
              "      <td>@myheartandmind jo jen by nemuselo zrovna tÃ© ...</td>\n",
              "      <td>Tue</td>\n",
              "      <td>Jun</td>\n",
              "      <td>16</td>\n",
              "    </tr>\n",
              "  </tbody>\n",
              "</table>\n",
              "<p>80000 rows × 8 columns</p>\n",
              "</div>"
            ],
            "text/plain": [
              "         polarity     user_id created_at  ... weekday month day\n",
              "0               0  1467810369   22:19:45  ...     Mon   Apr  06\n",
              "20              0  1467813985   22:20:37  ...     Mon   Apr  06\n",
              "40              0  1467818020   22:21:39  ...     Mon   Apr  06\n",
              "60              0  1467822687   22:22:52  ...     Mon   Apr  06\n",
              "80              0  1467834053   22:25:52  ...     Mon   Apr  06\n",
              "...           ...         ...        ...  ...     ...   ...  ..\n",
              "1599900         4  2193574897   08:38:37  ...     Tue   Jun  16\n",
              "1599920         4  2193575839   08:38:42  ...     Tue   Jun  16\n",
              "1599940         4  2193576797   08:38:47  ...     Tue   Jun  16\n",
              "1599960         4  2193577726   08:38:52  ...     Tue   Jun  16\n",
              "1599980         4  2193578679   08:38:56  ...     Tue   Jun  16\n",
              "\n",
              "[80000 rows x 8 columns]"
            ]
          },
          "metadata": {
            "tags": []
          },
          "execution_count": 66
        }
      ]
    },
    {
      "cell_type": "markdown",
      "metadata": {
        "id": "Vz5KOvZkCiF5"
      },
      "source": [
        "## Preprocessing"
      ]
    },
    {
      "cell_type": "code",
      "metadata": {
        "id": "YlraW3q5CjsI"
      },
      "source": [
        "english_stopwords = set(stopwords.words(\"english\"))\n",
        "lemma = WordNetLemmatizer()"
      ],
      "execution_count": 67,
      "outputs": []
    },
    {
      "cell_type": "code",
      "metadata": {
        "id": "xWN78Zy3CkVA"
      },
      "source": [
        "def clean_tweet(tweet):\n",
        "  tweet = re.sub('http\\S+', '', tweet) # remove url\n",
        "  tweet = re.sub('@\\S+', '', tweet) # remove handle\n",
        "  tweet = re.sub('[^a-zA-Z]', ' ', tweet) # remove non alphanumeric characters\n",
        "  tweet = str(tweet).lower() # make lowercase\n",
        "  tweet = word_tokenize(tweet) # tokenize into a list\n",
        "  tweet = [word for word in tweet if word not in english_stopwords] # remove stopwords\n",
        "  tweet = [lemma.lemmatize(word=w, pos='v') for w in tweet] # lemmatize\n",
        "  tweet = [word for word in tweet if len(word) > 2] # remove tokens smaller than 3\n",
        "  tweet = ' '.join(tweet) # rejoin tweet\n",
        "  return tweet"
      ],
      "execution_count": 68,
      "outputs": []
    },
    {
      "cell_type": "code",
      "metadata": {
        "colab": {
          "base_uri": "https://localhost:8080/",
          "height": 197
        },
        "id": "PZJJVKtsFQtv",
        "outputId": "005806c0-88da-4e03-8071-49fd929b622e"
      },
      "source": [
        "sentiment140.head()"
      ],
      "execution_count": 69,
      "outputs": [
        {
          "output_type": "execute_result",
          "data": {
            "text/html": [
              "<div>\n",
              "<style scoped>\n",
              "    .dataframe tbody tr th:only-of-type {\n",
              "        vertical-align: middle;\n",
              "    }\n",
              "\n",
              "    .dataframe tbody tr th {\n",
              "        vertical-align: top;\n",
              "    }\n",
              "\n",
              "    .dataframe thead th {\n",
              "        text-align: right;\n",
              "    }\n",
              "</style>\n",
              "<table border=\"1\" class=\"dataframe\">\n",
              "  <thead>\n",
              "    <tr style=\"text-align: right;\">\n",
              "      <th></th>\n",
              "      <th>polarity</th>\n",
              "      <th>user_id</th>\n",
              "      <th>created_at</th>\n",
              "      <th>user_name</th>\n",
              "      <th>tweet</th>\n",
              "      <th>weekday</th>\n",
              "      <th>month</th>\n",
              "      <th>day</th>\n",
              "    </tr>\n",
              "  </thead>\n",
              "  <tbody>\n",
              "    <tr>\n",
              "      <th>0</th>\n",
              "      <td>0</td>\n",
              "      <td>1467810369</td>\n",
              "      <td>22:19:45</td>\n",
              "      <td>_TheSpecialOne_</td>\n",
              "      <td>@switchfoot http://twitpic.com/2y1zl - Awww, t...</td>\n",
              "      <td>Mon</td>\n",
              "      <td>Apr</td>\n",
              "      <td>06</td>\n",
              "    </tr>\n",
              "    <tr>\n",
              "      <th>20</th>\n",
              "      <td>0</td>\n",
              "      <td>1467813985</td>\n",
              "      <td>22:20:37</td>\n",
              "      <td>quanvu</td>\n",
              "      <td>@alydesigns i was out most of the day so didn'...</td>\n",
              "      <td>Mon</td>\n",
              "      <td>Apr</td>\n",
              "      <td>06</td>\n",
              "    </tr>\n",
              "    <tr>\n",
              "      <th>40</th>\n",
              "      <td>0</td>\n",
              "      <td>1467818020</td>\n",
              "      <td>22:21:39</td>\n",
              "      <td>itsanimesh</td>\n",
              "      <td>really don't feel like getting up today... but...</td>\n",
              "      <td>Mon</td>\n",
              "      <td>Apr</td>\n",
              "      <td>06</td>\n",
              "    </tr>\n",
              "    <tr>\n",
              "      <th>60</th>\n",
              "      <td>0</td>\n",
              "      <td>1467822687</td>\n",
              "      <td>22:22:52</td>\n",
              "      <td>xVivaLaJuicyx</td>\n",
              "      <td>@BatManYNG I miss my ps3, it's out of commissi...</td>\n",
              "      <td>Mon</td>\n",
              "      <td>Apr</td>\n",
              "      <td>06</td>\n",
              "    </tr>\n",
              "    <tr>\n",
              "      <th>80</th>\n",
              "      <td>0</td>\n",
              "      <td>1467834053</td>\n",
              "      <td>22:25:52</td>\n",
              "      <td>thelazyboy</td>\n",
              "      <td>sleep soon... i just hate saying bye and see y...</td>\n",
              "      <td>Mon</td>\n",
              "      <td>Apr</td>\n",
              "      <td>06</td>\n",
              "    </tr>\n",
              "  </tbody>\n",
              "</table>\n",
              "</div>"
            ],
            "text/plain": [
              "    polarity     user_id created_at  ... weekday month day\n",
              "0          0  1467810369   22:19:45  ...     Mon   Apr  06\n",
              "20         0  1467813985   22:20:37  ...     Mon   Apr  06\n",
              "40         0  1467818020   22:21:39  ...     Mon   Apr  06\n",
              "60         0  1467822687   22:22:52  ...     Mon   Apr  06\n",
              "80         0  1467834053   22:25:52  ...     Mon   Apr  06\n",
              "\n",
              "[5 rows x 8 columns]"
            ]
          },
          "metadata": {
            "tags": []
          },
          "execution_count": 69
        }
      ]
    },
    {
      "cell_type": "code",
      "metadata": {
        "id": "LIexuRiSCl2M"
      },
      "source": [
        "sentiment140['tweet'] = sentiment140['tweet'].apply(clean_tweet)"
      ],
      "execution_count": 70,
      "outputs": []
    },
    {
      "cell_type": "code",
      "metadata": {
        "colab": {
          "base_uri": "https://localhost:8080/",
          "height": 197
        },
        "id": "sYn1KCTyFITU",
        "outputId": "86b73171-84e3-4c76-fa19-4bec38803c93"
      },
      "source": [
        "sentiment140.head()"
      ],
      "execution_count": 71,
      "outputs": [
        {
          "output_type": "execute_result",
          "data": {
            "text/html": [
              "<div>\n",
              "<style scoped>\n",
              "    .dataframe tbody tr th:only-of-type {\n",
              "        vertical-align: middle;\n",
              "    }\n",
              "\n",
              "    .dataframe tbody tr th {\n",
              "        vertical-align: top;\n",
              "    }\n",
              "\n",
              "    .dataframe thead th {\n",
              "        text-align: right;\n",
              "    }\n",
              "</style>\n",
              "<table border=\"1\" class=\"dataframe\">\n",
              "  <thead>\n",
              "    <tr style=\"text-align: right;\">\n",
              "      <th></th>\n",
              "      <th>polarity</th>\n",
              "      <th>user_id</th>\n",
              "      <th>created_at</th>\n",
              "      <th>user_name</th>\n",
              "      <th>tweet</th>\n",
              "      <th>weekday</th>\n",
              "      <th>month</th>\n",
              "      <th>day</th>\n",
              "    </tr>\n",
              "  </thead>\n",
              "  <tbody>\n",
              "    <tr>\n",
              "      <th>0</th>\n",
              "      <td>0</td>\n",
              "      <td>1467810369</td>\n",
              "      <td>22:19:45</td>\n",
              "      <td>_TheSpecialOne_</td>\n",
              "      <td>switchfoot awww bummer shoulda get david carr ...</td>\n",
              "      <td>Mon</td>\n",
              "      <td>Apr</td>\n",
              "      <td>06</td>\n",
              "    </tr>\n",
              "    <tr>\n",
              "      <th>20</th>\n",
              "      <td>0</td>\n",
              "      <td>1467813985</td>\n",
              "      <td>22:20:37</td>\n",
              "      <td>quanvu</td>\n",
              "      <td>alydesigns day get much</td>\n",
              "      <td>Mon</td>\n",
              "      <td>Apr</td>\n",
              "      <td>06</td>\n",
              "    </tr>\n",
              "    <tr>\n",
              "      <th>40</th>\n",
              "      <td>0</td>\n",
              "      <td>1467818020</td>\n",
              "      <td>22:21:39</td>\n",
              "      <td>itsanimesh</td>\n",
              "      <td>really feel like get today get study tomorrows...</td>\n",
              "      <td>Mon</td>\n",
              "      <td>Apr</td>\n",
              "      <td>06</td>\n",
              "    </tr>\n",
              "    <tr>\n",
              "      <th>60</th>\n",
              "      <td>0</td>\n",
              "      <td>1467822687</td>\n",
              "      <td>22:22:52</td>\n",
              "      <td>xVivaLaJuicyx</td>\n",
              "      <td>batmanyng miss commission wutcha play cop bloo...</td>\n",
              "      <td>Mon</td>\n",
              "      <td>Apr</td>\n",
              "      <td>06</td>\n",
              "    </tr>\n",
              "    <tr>\n",
              "      <th>80</th>\n",
              "      <td>0</td>\n",
              "      <td>1467834053</td>\n",
              "      <td>22:25:52</td>\n",
              "      <td>thelazyboy</td>\n",
              "      <td>sleep soon hate say bye see tomorrow night</td>\n",
              "      <td>Mon</td>\n",
              "      <td>Apr</td>\n",
              "      <td>06</td>\n",
              "    </tr>\n",
              "  </tbody>\n",
              "</table>\n",
              "</div>"
            ],
            "text/plain": [
              "    polarity     user_id created_at  ... weekday month day\n",
              "0          0  1467810369   22:19:45  ...     Mon   Apr  06\n",
              "20         0  1467813985   22:20:37  ...     Mon   Apr  06\n",
              "40         0  1467818020   22:21:39  ...     Mon   Apr  06\n",
              "60         0  1467822687   22:22:52  ...     Mon   Apr  06\n",
              "80         0  1467834053   22:25:52  ...     Mon   Apr  06\n",
              "\n",
              "[5 rows x 8 columns]"
            ]
          },
          "metadata": {
            "tags": []
          },
          "execution_count": 71
        }
      ]
    },
    {
      "cell_type": "markdown",
      "metadata": {
        "id": "Yvv1wfzTFlDm"
      },
      "source": [
        "Twitter Tweets"
      ]
    }
  ]
}