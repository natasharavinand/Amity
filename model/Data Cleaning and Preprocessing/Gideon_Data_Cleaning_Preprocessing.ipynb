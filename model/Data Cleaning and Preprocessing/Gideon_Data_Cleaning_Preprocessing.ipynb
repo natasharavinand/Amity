{
  "nbformat": 4,
  "nbformat_minor": 0,
  "metadata": {
    "colab": {
      "name": "Gideon-Data Cleaning/Preprocessing.ipynb",
      "provenance": [],
      "collapsed_sections": []
    },
    "kernelspec": {
      "name": "python3",
      "display_name": "Python 3"
    }
  },
  "cells": [
    {
      "cell_type": "markdown",
      "metadata": {
        "id": "3aHA3rMiFmxj"
      },
      "source": [
        "# Sentiment140 and Twitter Data Cleaning/Preprocessing"
      ]
    },
    {
      "cell_type": "code",
      "metadata": {
        "id": "G6kcR8Pfjo9L",
        "colab": {
          "base_uri": "https://localhost:8080/"
        },
        "outputId": "a02e58a4-cf1f-42f2-94cc-fad344f9e65f"
      },
      "source": [
        "import pandas as pd\n",
        "import numpy as np\n",
        "import time\n",
        "\n",
        "import re\n",
        "\n",
        "import datetime\n",
        "\n",
        "import nltk\n",
        "from nltk.tokenize import word_tokenize\n",
        "from nltk.corpus import stopwords\n",
        "from nltk.stem import PorterStemmer\n",
        "from nltk.stem import WordNetLemmatizer\n",
        "\n",
        "nltk.download('punkt')\n",
        "nltk.download('stopwords')\n",
        "nltk.download('wordnet')"
      ],
      "execution_count": 1,
      "outputs": [
        {
          "output_type": "stream",
          "text": [
            "[nltk_data] Downloading package punkt to /root/nltk_data...\n",
            "[nltk_data]   Package punkt is already up-to-date!\n",
            "[nltk_data] Downloading package stopwords to /root/nltk_data...\n",
            "[nltk_data]   Package stopwords is already up-to-date!\n",
            "[nltk_data] Downloading package wordnet to /root/nltk_data...\n",
            "[nltk_data]   Package wordnet is already up-to-date!\n"
          ],
          "name": "stdout"
        },
        {
          "output_type": "execute_result",
          "data": {
            "text/plain": [
              "True"
            ]
          },
          "metadata": {
            "tags": []
          },
          "execution_count": 1
        }
      ]
    },
    {
      "cell_type": "code",
      "metadata": {
        "colab": {
          "base_uri": "https://localhost:8080/"
        },
        "id": "6_oPSsjPmDZA",
        "outputId": "d780face-2f7e-4145-83cc-a5b3054ab442"
      },
      "source": [
        "from google.colab import drive\n",
        "drive.mount('/content/drive')"
      ],
      "execution_count": 2,
      "outputs": [
        {
          "output_type": "stream",
          "text": [
            "Drive already mounted at /content/drive; to attempt to forcibly remount, call drive.mount(\"/content/drive\", force_remount=True).\n"
          ],
          "name": "stdout"
        }
      ]
    },
    {
      "cell_type": "markdown",
      "metadata": {
        "id": "FS88ACAIAQkl"
      },
      "source": [
        "## Sentiment 140"
      ]
    },
    {
      "cell_type": "code",
      "metadata": {
        "id": "TrkGJrL1i981"
      },
      "source": [
        "sentiment140 = pd.read_csv('/content/drive/MyDrive/makeathon_stuff/sentiment_full.csv', encoding=\"ISO-8859-1\", names=[\"0\", \"1\", \"2\", \"3\", \"4\", \"5\"])"
      ],
      "execution_count": 3,
      "outputs": []
    },
    {
      "cell_type": "code",
      "metadata": {
        "colab": {
          "base_uri": "https://localhost:8080/",
          "height": 204
        },
        "id": "HHmlcoGWCsUS",
        "outputId": "df59dadd-2ab6-4967-e8e7-14d90bd24a76"
      },
      "source": [
        "sentiment140.head()"
      ],
      "execution_count": 4,
      "outputs": [
        {
          "output_type": "execute_result",
          "data": {
            "text/html": [
              "<div>\n",
              "<style scoped>\n",
              "    .dataframe tbody tr th:only-of-type {\n",
              "        vertical-align: middle;\n",
              "    }\n",
              "\n",
              "    .dataframe tbody tr th {\n",
              "        vertical-align: top;\n",
              "    }\n",
              "\n",
              "    .dataframe thead th {\n",
              "        text-align: right;\n",
              "    }\n",
              "</style>\n",
              "<table border=\"1\" class=\"dataframe\">\n",
              "  <thead>\n",
              "    <tr style=\"text-align: right;\">\n",
              "      <th></th>\n",
              "      <th>0</th>\n",
              "      <th>1</th>\n",
              "      <th>2</th>\n",
              "      <th>3</th>\n",
              "      <th>4</th>\n",
              "      <th>5</th>\n",
              "    </tr>\n",
              "  </thead>\n",
              "  <tbody>\n",
              "    <tr>\n",
              "      <th>0</th>\n",
              "      <td>0</td>\n",
              "      <td>1467810369</td>\n",
              "      <td>Mon Apr 06 22:19:45 PDT 2009</td>\n",
              "      <td>NO_QUERY</td>\n",
              "      <td>_TheSpecialOne_</td>\n",
              "      <td>@switchfoot http://twitpic.com/2y1zl - Awww, t...</td>\n",
              "    </tr>\n",
              "    <tr>\n",
              "      <th>1</th>\n",
              "      <td>0</td>\n",
              "      <td>1467810672</td>\n",
              "      <td>Mon Apr 06 22:19:49 PDT 2009</td>\n",
              "      <td>NO_QUERY</td>\n",
              "      <td>scotthamilton</td>\n",
              "      <td>is upset that he can't update his Facebook by ...</td>\n",
              "    </tr>\n",
              "    <tr>\n",
              "      <th>2</th>\n",
              "      <td>0</td>\n",
              "      <td>1467810917</td>\n",
              "      <td>Mon Apr 06 22:19:53 PDT 2009</td>\n",
              "      <td>NO_QUERY</td>\n",
              "      <td>mattycus</td>\n",
              "      <td>@Kenichan I dived many times for the ball. Man...</td>\n",
              "    </tr>\n",
              "    <tr>\n",
              "      <th>3</th>\n",
              "      <td>0</td>\n",
              "      <td>1467811184</td>\n",
              "      <td>Mon Apr 06 22:19:57 PDT 2009</td>\n",
              "      <td>NO_QUERY</td>\n",
              "      <td>ElleCTF</td>\n",
              "      <td>my whole body feels itchy and like its on fire</td>\n",
              "    </tr>\n",
              "    <tr>\n",
              "      <th>4</th>\n",
              "      <td>0</td>\n",
              "      <td>1467811193</td>\n",
              "      <td>Mon Apr 06 22:19:57 PDT 2009</td>\n",
              "      <td>NO_QUERY</td>\n",
              "      <td>Karoli</td>\n",
              "      <td>@nationwideclass no, it's not behaving at all....</td>\n",
              "    </tr>\n",
              "  </tbody>\n",
              "</table>\n",
              "</div>"
            ],
            "text/plain": [
              "   0  ...                                                  5\n",
              "0  0  ...  @switchfoot http://twitpic.com/2y1zl - Awww, t...\n",
              "1  0  ...  is upset that he can't update his Facebook by ...\n",
              "2  0  ...  @Kenichan I dived many times for the ball. Man...\n",
              "3  0  ...    my whole body feels itchy and like its on fire \n",
              "4  0  ...  @nationwideclass no, it's not behaving at all....\n",
              "\n",
              "[5 rows x 6 columns]"
            ]
          },
          "metadata": {
            "tags": []
          },
          "execution_count": 4
        }
      ]
    },
    {
      "cell_type": "markdown",
      "metadata": {
        "id": "NiFN-XdjCgY-"
      },
      "source": [
        "## Text Cleaning"
      ]
    },
    {
      "cell_type": "code",
      "metadata": {
        "id": "aM74MlhbDHdP"
      },
      "source": [
        "def extract_regex(regex,tweet):\n",
        "  if re.search(regex,tweet) is not None:\n",
        "    return re.search(regex,tweet).group() \n",
        "  else:\n",
        "    return np.nan"
      ],
      "execution_count": 5,
      "outputs": []
    },
    {
      "cell_type": "code",
      "metadata": {
        "id": "MM0eRWc_CQr3"
      },
      "source": [
        "def clean_times(df):\n",
        "  days = ['Mon', 'Tue', 'Wed', 'Thu', 'Fri', 'Sat', 'Sun']\n",
        "  months = ['Apr','May','Jun']\n",
        "  days_regex = \"(\" + \")|(\".join(days) + \")\"\n",
        "  months_regex = \"(\" + \")|(\".join(months) + \")\"\n",
        "\n",
        "  df['weekday'] = df['created_at'].apply(lambda x: extract_regex(days_regex, x))\n",
        "  df['month'] = df['created_at'].apply(lambda x: extract_regex(months_regex, x))\n",
        "\n",
        "  df['created_at'] = df['created_at'].str.replace(days_regex, '')\n",
        "  df['created_at'] = df['created_at'].str.replace(months_regex, '')\n",
        "  df['created_at'] = df['created_at'].str.replace('PDT', '')\n",
        "  df['created_at'] = df['created_at'].str.replace('2009', '')\n",
        "  df['created_at'] = df['created_at'].str.replace('2009', '')\n",
        "\n",
        "  df['day'] = df['created_at'].str[2:4]\n",
        "  df['created_at'] = df['created_at'].str[4:]\n",
        "  df['created_at'] = df['created_at'].str.strip()\n",
        "  \n",
        "  return df"
      ],
      "execution_count": 6,
      "outputs": []
    },
    {
      "cell_type": "code",
      "metadata": {
        "id": "km6NlHxEB1Zt"
      },
      "source": [
        "def sentiment_cleaning_pipeline(df):\n",
        "  df = df.iloc[::20, :]\n",
        "  df = df.drop(columns = ['3'])\n",
        "  df = df.rename(columns={'0': 'polarity', '1': 'user_id', '2': 'created_at', '4': 'user_name', '5': 'tweet'})  \n",
        "  df = clean_times(df)\n",
        "\n",
        "  return df"
      ],
      "execution_count": 7,
      "outputs": []
    },
    {
      "cell_type": "code",
      "metadata": {
        "id": "P-f0Bc9MDeXL"
      },
      "source": [
        "sentiment140 = sentiment_cleaning_pipeline(sentiment140)"
      ],
      "execution_count": 8,
      "outputs": []
    },
    {
      "cell_type": "markdown",
      "metadata": {
        "id": "Vz5KOvZkCiF5"
      },
      "source": [
        "## Preprocessing"
      ]
    },
    {
      "cell_type": "code",
      "metadata": {
        "id": "YlraW3q5CjsI"
      },
      "source": [
        "english_stopwords = set(stopwords.words(\"english\"))\n",
        "lemma = WordNetLemmatizer()"
      ],
      "execution_count": 9,
      "outputs": []
    },
    {
      "cell_type": "code",
      "metadata": {
        "id": "xWN78Zy3CkVA"
      },
      "source": [
        "def clean_tweet(tweet):\n",
        "  tweet = re.sub('(http|ftp|https)://([\\w_-]+(?:(?:\\.[\\w_-]+)+))([\\w.,@?^=%&:/~+#-]*[\\w@?^=%&/~+#-])?', '', tweet) # remove url\n",
        "  tweet = re.sub('@\\S+', '', tweet) # remove handle\n",
        "  tweet = re.sub('[^a-zA-Z]', ' ', tweet) # remove non alphanumeric characters\n",
        "  tweet = str(tweet).lower() # make lowercase\n",
        "  tweet = word_tokenize(tweet) # tokenize into a list\n",
        "  tweet = [word for word in tweet if word not in english_stopwords] # remove stopwords\n",
        "  tweet = [lemma.lemmatize(word=w, pos='v') for w in tweet] # lemmatize\n",
        "  tweet = [word for word in tweet if len(word) > 2] # remove tokens smaller than 3\n",
        "  tweet = ' '.join(tweet) # rejoin tweet\n",
        "  return tweet"
      ],
      "execution_count": 10,
      "outputs": []
    },
    {
      "cell_type": "code",
      "metadata": {
        "colab": {
          "base_uri": "https://localhost:8080/",
          "height": 204
        },
        "id": "PZJJVKtsFQtv",
        "outputId": "90bd5cd8-0b59-46dc-fb59-ad7ac0bbefd3"
      },
      "source": [
        "sentiment140.head()"
      ],
      "execution_count": 11,
      "outputs": [
        {
          "output_type": "execute_result",
          "data": {
            "text/html": [
              "<div>\n",
              "<style scoped>\n",
              "    .dataframe tbody tr th:only-of-type {\n",
              "        vertical-align: middle;\n",
              "    }\n",
              "\n",
              "    .dataframe tbody tr th {\n",
              "        vertical-align: top;\n",
              "    }\n",
              "\n",
              "    .dataframe thead th {\n",
              "        text-align: right;\n",
              "    }\n",
              "</style>\n",
              "<table border=\"1\" class=\"dataframe\">\n",
              "  <thead>\n",
              "    <tr style=\"text-align: right;\">\n",
              "      <th></th>\n",
              "      <th>polarity</th>\n",
              "      <th>user_id</th>\n",
              "      <th>created_at</th>\n",
              "      <th>user_name</th>\n",
              "      <th>tweet</th>\n",
              "      <th>weekday</th>\n",
              "      <th>month</th>\n",
              "      <th>day</th>\n",
              "    </tr>\n",
              "  </thead>\n",
              "  <tbody>\n",
              "    <tr>\n",
              "      <th>0</th>\n",
              "      <td>0</td>\n",
              "      <td>1467810369</td>\n",
              "      <td>22:19:45</td>\n",
              "      <td>_TheSpecialOne_</td>\n",
              "      <td>@switchfoot http://twitpic.com/2y1zl - Awww, t...</td>\n",
              "      <td>Mon</td>\n",
              "      <td>Apr</td>\n",
              "      <td>06</td>\n",
              "    </tr>\n",
              "    <tr>\n",
              "      <th>20</th>\n",
              "      <td>0</td>\n",
              "      <td>1467813985</td>\n",
              "      <td>22:20:37</td>\n",
              "      <td>quanvu</td>\n",
              "      <td>@alydesigns i was out most of the day so didn'...</td>\n",
              "      <td>Mon</td>\n",
              "      <td>Apr</td>\n",
              "      <td>06</td>\n",
              "    </tr>\n",
              "    <tr>\n",
              "      <th>40</th>\n",
              "      <td>0</td>\n",
              "      <td>1467818020</td>\n",
              "      <td>22:21:39</td>\n",
              "      <td>itsanimesh</td>\n",
              "      <td>really don't feel like getting up today... but...</td>\n",
              "      <td>Mon</td>\n",
              "      <td>Apr</td>\n",
              "      <td>06</td>\n",
              "    </tr>\n",
              "    <tr>\n",
              "      <th>60</th>\n",
              "      <td>0</td>\n",
              "      <td>1467822687</td>\n",
              "      <td>22:22:52</td>\n",
              "      <td>xVivaLaJuicyx</td>\n",
              "      <td>@BatManYNG I miss my ps3, it's out of commissi...</td>\n",
              "      <td>Mon</td>\n",
              "      <td>Apr</td>\n",
              "      <td>06</td>\n",
              "    </tr>\n",
              "    <tr>\n",
              "      <th>80</th>\n",
              "      <td>0</td>\n",
              "      <td>1467834053</td>\n",
              "      <td>22:25:52</td>\n",
              "      <td>thelazyboy</td>\n",
              "      <td>sleep soon... i just hate saying bye and see y...</td>\n",
              "      <td>Mon</td>\n",
              "      <td>Apr</td>\n",
              "      <td>06</td>\n",
              "    </tr>\n",
              "  </tbody>\n",
              "</table>\n",
              "</div>"
            ],
            "text/plain": [
              "    polarity     user_id created_at  ... weekday month day\n",
              "0          0  1467810369   22:19:45  ...     Mon   Apr  06\n",
              "20         0  1467813985   22:20:37  ...     Mon   Apr  06\n",
              "40         0  1467818020   22:21:39  ...     Mon   Apr  06\n",
              "60         0  1467822687   22:22:52  ...     Mon   Apr  06\n",
              "80         0  1467834053   22:25:52  ...     Mon   Apr  06\n",
              "\n",
              "[5 rows x 8 columns]"
            ]
          },
          "metadata": {
            "tags": []
          },
          "execution_count": 11
        }
      ]
    },
    {
      "cell_type": "code",
      "metadata": {
        "id": "j5TYfKnEE0SZ"
      },
      "source": [
        "sentiment140 = sentiment140.dropna()"
      ],
      "execution_count": 12,
      "outputs": []
    },
    {
      "cell_type": "code",
      "metadata": {
        "id": "LIexuRiSCl2M"
      },
      "source": [
        "sentiment140['tweet'] = sentiment140['tweet'].apply(clean_tweet)"
      ],
      "execution_count": 13,
      "outputs": []
    },
    {
      "cell_type": "code",
      "metadata": {
        "id": "Gxud1gk9Er81"
      },
      "source": [
        "neg = sentiment140[sentiment140['polarity'] == 0]\n",
        "pos = sentiment140[sentiment140['polarity'] == 4]\n",
        "\n",
        "neg = neg.sample(n=10000)\n",
        "pos = pos.sample(n=10000)\n",
        "neg.reset_index(drop = True, inplace=True)\n",
        "pos.reset_index(drop = True, inplace=True)\n",
        "# sentiment_cleaned = neg.append(pos)\n",
        "# sentiment_cleaned"
      ],
      "execution_count": 14,
      "outputs": []
    },
    {
      "cell_type": "code",
      "metadata": {
        "id": "EEQYccqgOTGI"
      },
      "source": [
        "neg['at_risk'] = 1\n",
        "pos['at_risk'] = 0\n",
        "neg.drop(columns='polarity', inplace = True)\n",
        "pos.drop(columns='polarity', inplace = True)"
      ],
      "execution_count": 15,
      "outputs": []
    },
    {
      "cell_type": "code",
      "metadata": {
        "id": "oXYd1NclD7Iz"
      },
      "source": [
        "neg.to_csv('/content/drive/MyDrive/makeathon_stuff/sentiment_negative.csv')\n",
        "pos.to_csv('/content/drive/MyDrive/makeathon_stuff/sentiment_positive.csv')\n"
      ],
      "execution_count": 16,
      "outputs": []
    },
    {
      "cell_type": "markdown",
      "metadata": {
        "id": "Yvv1wfzTFlDm"
      },
      "source": [
        "## Twitter Tweets"
      ]
    },
    {
      "cell_type": "code",
      "metadata": {
        "id": "OfDKWYhGUWRD"
      },
      "source": [
        "twitter = pd.read_csv('/content/drive/MyDrive/makeathon_stuff/suicide_tweets_df.csv')"
      ],
      "execution_count": 17,
      "outputs": []
    },
    {
      "cell_type": "code",
      "metadata": {
        "id": "ed53jzUgVBAr",
        "colab": {
          "base_uri": "https://localhost:8080/",
          "height": 479
        },
        "outputId": "99bdc74a-ccf6-475c-c6c5-5f636049b86a"
      },
      "source": [
        "twitter.head()"
      ],
      "execution_count": 18,
      "outputs": [
        {
          "output_type": "execute_result",
          "data": {
            "text/html": [
              "<div>\n",
              "<style scoped>\n",
              "    .dataframe tbody tr th:only-of-type {\n",
              "        vertical-align: middle;\n",
              "    }\n",
              "\n",
              "    .dataframe tbody tr th {\n",
              "        vertical-align: top;\n",
              "    }\n",
              "\n",
              "    .dataframe thead th {\n",
              "        text-align: right;\n",
              "    }\n",
              "</style>\n",
              "<table border=\"1\" class=\"dataframe\">\n",
              "  <thead>\n",
              "    <tr style=\"text-align: right;\">\n",
              "      <th></th>\n",
              "      <th>created_at</th>\n",
              "      <th>text</th>\n",
              "      <th>user_name</th>\n",
              "      <th>screen_name</th>\n",
              "      <th>location</th>\n",
              "      <th>friends_count</th>\n",
              "      <th>followers_count</th>\n",
              "      <th>is_quote_status</th>\n",
              "      <th>retweet_count</th>\n",
              "      <th>favorite_count</th>\n",
              "      <th>retweeted</th>\n",
              "      <th>favorited</th>\n",
              "      <th>verified</th>\n",
              "      <th>protected</th>\n",
              "      <th>lang</th>\n",
              "    </tr>\n",
              "  </thead>\n",
              "  <tbody>\n",
              "    <tr>\n",
              "      <th>0</th>\n",
              "      <td>2021-03-15 01:22:21</td>\n",
              "      <td>O HARRY FANHOU????</td>\n",
              "      <td>Maria</td>\n",
              "      <td>shawuanlover</td>\n",
              "      <td>𝑺𝒂𝒏 𝑭𝒓𝒂𝒏𝒄𝒊𝒔𝒄𝒐</td>\n",
              "      <td>1359</td>\n",
              "      <td>1520</td>\n",
              "      <td>False</td>\n",
              "      <td>0</td>\n",
              "      <td>0</td>\n",
              "      <td>False</td>\n",
              "      <td>False</td>\n",
              "      <td>False</td>\n",
              "      <td>False</td>\n",
              "      <td>en</td>\n",
              "    </tr>\n",
              "    <tr>\n",
              "      <th>1</th>\n",
              "      <td>2021-03-15 01:22:21</td>\n",
              "      <td>YEAHHH HARRYY YOU BLOODY LEGEND YOUUU</td>\n",
              "      <td>EVE⛈HEARTBREAK WEATHER</td>\n",
              "      <td>NEWANGEL93</td>\n",
              "      <td>San Francisco, CA</td>\n",
              "      <td>449</td>\n",
              "      <td>282</td>\n",
              "      <td>False</td>\n",
              "      <td>0</td>\n",
              "      <td>0</td>\n",
              "      <td>False</td>\n",
              "      <td>False</td>\n",
              "      <td>False</td>\n",
              "      <td>False</td>\n",
              "      <td>en</td>\n",
              "    </tr>\n",
              "    <tr>\n",
              "      <th>2</th>\n",
              "      <td>2021-03-15 01:22:21</td>\n",
              "      <td>RT @priceactionkim: 👉 The PATI Members only ne...</td>\n",
              "      <td>Kevin Hunt▫️Forex Trader</td>\n",
              "      <td>uk2asia</td>\n",
              "      <td>Asia/London UK</td>\n",
              "      <td>125</td>\n",
              "      <td>4335</td>\n",
              "      <td>False</td>\n",
              "      <td>1</td>\n",
              "      <td>0</td>\n",
              "      <td>False</td>\n",
              "      <td>False</td>\n",
              "      <td>False</td>\n",
              "      <td>False</td>\n",
              "      <td>en</td>\n",
              "    </tr>\n",
              "    <tr>\n",
              "      <th>3</th>\n",
              "      <td>2021-03-15 01:22:21</td>\n",
              "      <td>RT @warriors: 32 points &amp;amp; 9 dimes on his 3...</td>\n",
              "      <td>KiDD | kaSOLID ✌</td>\n",
              "      <td>aldrinkidd_</td>\n",
              "      <td>Angeles City, Central Luzon</td>\n",
              "      <td>769</td>\n",
              "      <td>658</td>\n",
              "      <td>False</td>\n",
              "      <td>556</td>\n",
              "      <td>0</td>\n",
              "      <td>False</td>\n",
              "      <td>False</td>\n",
              "      <td>False</td>\n",
              "      <td>False</td>\n",
              "      <td>en</td>\n",
              "    </tr>\n",
              "    <tr>\n",
              "      <th>4</th>\n",
              "      <td>2021-03-15 01:22:20</td>\n",
              "      <td>RT @RBReich: I don't know who needs to hear th...</td>\n",
              "      <td>jhin🇺🇸💙</td>\n",
              "      <td>jhin58794874</td>\n",
              "      <td>NaN</td>\n",
              "      <td>625</td>\n",
              "      <td>174</td>\n",
              "      <td>False</td>\n",
              "      <td>2006</td>\n",
              "      <td>0</td>\n",
              "      <td>False</td>\n",
              "      <td>False</td>\n",
              "      <td>False</td>\n",
              "      <td>False</td>\n",
              "      <td>en</td>\n",
              "    </tr>\n",
              "  </tbody>\n",
              "</table>\n",
              "</div>"
            ],
            "text/plain": [
              "            created_at  ... lang\n",
              "0  2021-03-15 01:22:21  ...   en\n",
              "1  2021-03-15 01:22:21  ...   en\n",
              "2  2021-03-15 01:22:21  ...   en\n",
              "3  2021-03-15 01:22:21  ...   en\n",
              "4  2021-03-15 01:22:20  ...   en\n",
              "\n",
              "[5 rows x 15 columns]"
            ]
          },
          "metadata": {
            "tags": []
          },
          "execution_count": 18
        }
      ]
    },
    {
      "cell_type": "code",
      "metadata": {
        "id": "5NFNoLhEKB1f"
      },
      "source": [
        "def find_weekday(row, day_not_weekday=False):\n",
        "  regex_match = re.match('^([^\\s]+)', row)\n",
        "  date = regex_match.group()\n",
        "  days = ['Mon', 'Tue', 'Wed', 'Thu', 'Fri', 'Sat', 'Sun']\n",
        "  year, month, day = (int(x) for x in date.split('-'))\n",
        "\n",
        "  if day_not_weekday:\n",
        "    return day\n",
        "  else:\n",
        "    return days[datetime.date(year, month, day).weekday()]"
      ],
      "execution_count": 19,
      "outputs": []
    },
    {
      "cell_type": "code",
      "metadata": {
        "id": "jRh-FY45JfqX"
      },
      "source": [
        "def clean_twitter_times(df):\n",
        "  days = ['Mon', 'Tue', 'Wed', 'Thu', 'Fri', 'Sat', 'Sun']\n",
        "\n",
        "  df['weekday'] = df['created_at'].apply(find_weekday)\n",
        "  df['month'] = 'Mar'\n",
        "  df['day'] = df['created_at'].apply(find_weekday, day_not_weekday=True)\n",
        "\n",
        "  df['created_at'] = df['created_at'].str[-8:]\n",
        "  df['created_at'] = df['created_at'].str.strip()\n",
        "  \n",
        "  return df"
      ],
      "execution_count": 20,
      "outputs": []
    },
    {
      "cell_type": "code",
      "metadata": {
        "id": "pa9BhLZDFIKB"
      },
      "source": [
        "def twitter_cleaning_pipeline(df):\n",
        "  df = df.drop(columns = [col for col in df.columns if col not in ['created_at', 'text', 'screen_name']])\n",
        "  df = df.rename(columns={'screen_name': 'user_name', 'text':'tweet'})  \n",
        "  df = clean_twitter_times(df)\n",
        "\n",
        "  return df"
      ],
      "execution_count": 21,
      "outputs": []
    },
    {
      "cell_type": "code",
      "metadata": {
        "id": "f5Rrg-R3JV8u"
      },
      "source": [
        "twitter = twitter_cleaning_pipeline(twitter)"
      ],
      "execution_count": 22,
      "outputs": []
    },
    {
      "cell_type": "code",
      "metadata": {
        "id": "l3s3t-g7NJTL"
      },
      "source": [
        "twitter = twitter.dropna()"
      ],
      "execution_count": 23,
      "outputs": []
    },
    {
      "cell_type": "code",
      "metadata": {
        "id": "hw8aJCRkNS18"
      },
      "source": [
        "twitter['tweet'] = twitter['tweet'].apply(clean_tweet)"
      ],
      "execution_count": 24,
      "outputs": []
    },
    {
      "cell_type": "code",
      "metadata": {
        "colab": {
          "base_uri": "https://localhost:8080/",
          "height": 419
        },
        "id": "UuHnfp45No_l",
        "outputId": "083d09c8-68ca-4623-bebb-f1d783243856"
      },
      "source": [
        "twitter"
      ],
      "execution_count": 25,
      "outputs": [
        {
          "output_type": "execute_result",
          "data": {
            "text/html": [
              "<div>\n",
              "<style scoped>\n",
              "    .dataframe tbody tr th:only-of-type {\n",
              "        vertical-align: middle;\n",
              "    }\n",
              "\n",
              "    .dataframe tbody tr th {\n",
              "        vertical-align: top;\n",
              "    }\n",
              "\n",
              "    .dataframe thead th {\n",
              "        text-align: right;\n",
              "    }\n",
              "</style>\n",
              "<table border=\"1\" class=\"dataframe\">\n",
              "  <thead>\n",
              "    <tr style=\"text-align: right;\">\n",
              "      <th></th>\n",
              "      <th>created_at</th>\n",
              "      <th>tweet</th>\n",
              "      <th>user_name</th>\n",
              "      <th>weekday</th>\n",
              "      <th>month</th>\n",
              "      <th>day</th>\n",
              "    </tr>\n",
              "  </thead>\n",
              "  <tbody>\n",
              "    <tr>\n",
              "      <th>0</th>\n",
              "      <td>01:22:21</td>\n",
              "      <td>harry fanhou</td>\n",
              "      <td>shawuanlover</td>\n",
              "      <td>Mon</td>\n",
              "      <td>Mar</td>\n",
              "      <td>15</td>\n",
              "    </tr>\n",
              "    <tr>\n",
              "      <th>1</th>\n",
              "      <td>01:22:21</td>\n",
              "      <td>yeahhh harryy bloody legend youuu</td>\n",
              "      <td>NEWANGEL93</td>\n",
              "      <td>Mon</td>\n",
              "      <td>Mar</td>\n",
              "      <td>15</td>\n",
              "    </tr>\n",
              "    <tr>\n",
              "      <th>2</th>\n",
              "      <td>01:22:21</td>\n",
              "      <td>pati members newsletter send inbox please chec...</td>\n",
              "      <td>uk2asia</td>\n",
              "      <td>Mon</td>\n",
              "      <td>Mar</td>\n",
              "      <td>15</td>\n",
              "    </tr>\n",
              "    <tr>\n",
              "      <th>3</th>\n",
              "      <td>01:22:21</td>\n",
              "      <td>point amp dim birthday dubnation</td>\n",
              "      <td>aldrinkidd_</td>\n",
              "      <td>Mon</td>\n",
              "      <td>Mar</td>\n",
              "      <td>15</td>\n",
              "    </tr>\n",
              "    <tr>\n",
              "      <th>4</th>\n",
              "      <td>01:22:20</td>\n",
              "      <td>know need hear bipartisanship pay bill put foo...</td>\n",
              "      <td>jhin58794874</td>\n",
              "      <td>Mon</td>\n",
              "      <td>Mar</td>\n",
              "      <td>15</td>\n",
              "    </tr>\n",
              "    <tr>\n",
              "      <th>...</th>\n",
              "      <td>...</td>\n",
              "      <td>...</td>\n",
              "      <td>...</td>\n",
              "      <td>...</td>\n",
              "      <td>...</td>\n",
              "      <td>...</td>\n",
              "    </tr>\n",
              "    <tr>\n",
              "      <th>10580</th>\n",
              "      <td>03:14:44</td>\n",
              "      <td>years ago psychiatrist tell time want stop pai...</td>\n",
              "      <td>trngpt21</td>\n",
              "      <td>Tue</td>\n",
              "      <td>Mar</td>\n",
              "      <td>9</td>\n",
              "    </tr>\n",
              "    <tr>\n",
              "      <th>10581</th>\n",
              "      <td>02:38:25</td>\n",
              "      <td>everyone want commit suicide</td>\n",
              "      <td>Sir_hungry</td>\n",
              "      <td>Tue</td>\n",
              "      <td>Mar</td>\n",
              "      <td>9</td>\n",
              "    </tr>\n",
              "    <tr>\n",
              "      <th>10582</th>\n",
              "      <td>00:37:33</td>\n",
              "      <td>bff commit suicide never saw come total shocker</td>\n",
              "      <td>lnunez_747</td>\n",
              "      <td>Tue</td>\n",
              "      <td>Mar</td>\n",
              "      <td>9</td>\n",
              "    </tr>\n",
              "    <tr>\n",
              "      <th>10583</th>\n",
              "      <td>23:03:56</td>\n",
              "      <td>well years ago entire world want force mentall...</td>\n",
              "      <td>marioelf1986</td>\n",
              "      <td>Mon</td>\n",
              "      <td>Mar</td>\n",
              "      <td>8</td>\n",
              "    </tr>\n",
              "    <tr>\n",
              "      <th>10584</th>\n",
              "      <td>20:38:40</td>\n",
              "      <td>hear magen markle say want commit suicide cry ...</td>\n",
              "      <td>otxx_hannah</td>\n",
              "      <td>Mon</td>\n",
              "      <td>Mar</td>\n",
              "      <td>8</td>\n",
              "    </tr>\n",
              "  </tbody>\n",
              "</table>\n",
              "<p>10585 rows × 6 columns</p>\n",
              "</div>"
            ],
            "text/plain": [
              "      created_at                                              tweet  ... month day\n",
              "0       01:22:21                                       harry fanhou  ...   Mar  15\n",
              "1       01:22:21                  yeahhh harryy bloody legend youuu  ...   Mar  15\n",
              "2       01:22:21  pati members newsletter send inbox please chec...  ...   Mar  15\n",
              "3       01:22:21                   point amp dim birthday dubnation  ...   Mar  15\n",
              "4       01:22:20  know need hear bipartisanship pay bill put foo...  ...   Mar  15\n",
              "...          ...                                                ...  ...   ...  ..\n",
              "10580   03:14:44  years ago psychiatrist tell time want stop pai...  ...   Mar   9\n",
              "10581   02:38:25                       everyone want commit suicide  ...   Mar   9\n",
              "10582   00:37:33    bff commit suicide never saw come total shocker  ...   Mar   9\n",
              "10583   23:03:56  well years ago entire world want force mentall...  ...   Mar   8\n",
              "10584   20:38:40  hear magen markle say want commit suicide cry ...  ...   Mar   8\n",
              "\n",
              "[10585 rows x 6 columns]"
            ]
          },
          "metadata": {
            "tags": []
          },
          "execution_count": 25
        }
      ]
    },
    {
      "cell_type": "code",
      "metadata": {
        "id": "erI336xOON01"
      },
      "source": [
        "twitter['at_risk'] = 1"
      ],
      "execution_count": 26,
      "outputs": []
    },
    {
      "cell_type": "code",
      "metadata": {
        "id": "x_CmAVulOFa1"
      },
      "source": [
        "twitter.to_csv('/content/drive/MyDrive/makeathon_stuff/cleaned_twitter.csv')"
      ],
      "execution_count": 27,
      "outputs": []
    }
  ]
}